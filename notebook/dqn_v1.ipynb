{
 "cells": [
  {
   "cell_type": "code",
   "execution_count": 1,
   "metadata": {},
   "outputs": [
    {
     "name": "stderr",
     "output_type": "stream",
     "text": [
      "/usr/lib64/python3.6/importlib/_bootstrap.py:205: RuntimeWarning: compiletime version 3.5 of module 'tensorflow.python.framework.fast_tensor_util' does not match runtime version 3.6\n",
      "  return f(*args, **kwds)\n"
     ]
    }
   ],
   "source": [
    "import matplotlib.pyplot as plt\n",
    "%matplotlib inline\n",
    "import seaborn as sns\n",
    "sns.set(style=\"white\", palette=\"husl\")\n",
    "\n",
    "%load_ext autoreload\n",
    "%autoreload 2\n",
    "\n",
    "import numpy as np\n",
    "import gym\n",
    "import sys\n",
    "import os\n",
    "if \"../\" not in sys.path:\n",
    "    sys.path.insert(0, \"../\")\n",
    "\n",
    "from algo.lstd import LSTDQ, LSTDMu, LSPI\n",
    "from algo.policy import RandomPolicy2, LinearQ2\n",
    "from env.simulator import * \n",
    "from util.plotting import *\n",
    "from util.basis import *\n",
    "from algo.fa import LinearQ3\n",
    "from algo.dqn import DQN\n",
    "\n",
    "from logger import *\n",
    "setup_logging(default_level=logging.INFO)\n"
   ]
  },
  {
   "cell_type": "code",
   "execution_count": 2,
   "metadata": {},
   "outputs": [
    {
     "name": "stdout",
     "output_type": "stream",
     "text": [
      "\u001b[33mWARN: gym.spaces.Box autodetected dtype as <class 'numpy.float32'>. Please provide explicit dtype.\u001b[0m\n"
     ]
    }
   ],
   "source": [
    "env_id = \"MountainCar-v0\"\n",
    "env = gym.envs.make(env_id)\n",
    "state_dim = env.observation_space.shape[0]\n",
    "# discrete action\n",
    "action_dim = 1\n",
    "n_action = env.action_space.n\n",
    "sim = Simulator(env, state_dim=state_dim, action_dim=action_dim)"
   ]
  },
  {
   "cell_type": "markdown",
   "metadata": {},
   "source": [
    "## Online mode DQN\n",
    "- mountain car has reward of -1 everywhere and dqn's prediction is likely initialized around zero. It's very optimistic and therefore it will end up exploring as much as possible wherever it did not get -1's. therefore epsilon can be very low.\n",
    "- the learning rate matters"
   ]
  },
  {
   "cell_type": "code",
   "execution_count": 9,
   "metadata": {},
   "outputs": [],
   "source": [
    "import tensorflow as tf\n",
    "\n",
    "# test online dqn\n",
    "with tf.Graph().as_default():\n",
    "    dqn = DQN(env,\n",
    "               D=None,\n",
    "               hiddens=[128, 64],\n",
    "               learning_rate=1e-4,\n",
    "               gamma=0.99,\n",
    "               buffer_size=50000,\n",
    "               max_timesteps=10**5,\n",
    "               print_freq=100,\n",
    "               layer_norm=True,\n",
    "               exploration_fraction=0.0001,\n",
    "               exploration_final_eps=0.0001,\n",
    "               param_noise=True,\n",
    "               grad_norm_clipping=10,\n",
    "               buffer_batch_size=32)\n"
   ]
  },
  {
   "cell_type": "code",
   "execution_count": 10,
   "metadata": {
    "scrolled": false
   },
   "outputs": [
    {
     "name": "stderr",
     "output_type": "stream",
     "text": [
      "/usr/local/lib64/python3.6/site-packages/numpy/core/fromnumeric.py:2909: RuntimeWarning: Mean of empty slice.\n",
      "  out=out, **kwargs)\n",
      "/usr/local/lib64/python3.6/site-packages/numpy/core/_methods.py:80: RuntimeWarning: invalid value encountered in double_scalars\n",
      "  ret = ret.dtype.type(ret / rcount)\n"
     ]
    },
    {
     "name": "stdout",
     "output_type": "stream",
     "text": [
      "--------------------------------------\n",
      "| % time spent exploring  | 0        |\n",
      "| episodes                | 30       |\n",
      "| mean 100 episode reward | -200     |\n",
      "| steps                   | 5799     |\n",
      "--------------------------------------\n",
      "--------------------------------------\n",
      "| % time spent exploring  | 0        |\n",
      "| episodes                | 60       |\n",
      "| mean 100 episode reward | -199     |\n",
      "| steps                   | 11734    |\n",
      "--------------------------------------\n",
      "--------------------------------------\n",
      "| % time spent exploring  | 0        |\n",
      "| episodes                | 90       |\n",
      "| mean 100 episode reward | -197     |\n",
      "| steps                   | 17520    |\n",
      "--------------------------------------\n",
      "Saving model due to mean reward increase: None -> -197.2\n",
      "--------------------------------------\n",
      "| % time spent exploring  | 0        |\n",
      "| episodes                | 120      |\n",
      "| mean 100 episode reward | -196     |\n",
      "| steps                   | 23353    |\n",
      "--------------------------------------\n",
      "--------------------------------------\n",
      "| % time spent exploring  | 0        |\n",
      "| episodes                | 150      |\n",
      "| mean 100 episode reward | -192     |\n",
      "| steps                   | 28905    |\n",
      "--------------------------------------\n",
      "Saving model due to mean reward increase: -197.2 -> -189.8\n",
      "--------------------------------------\n",
      "| % time spent exploring  | 0        |\n",
      "| episodes                | 180      |\n",
      "| mean 100 episode reward | -184     |\n",
      "| steps                   | 33871    |\n",
      "--------------------------------------\n",
      "--------------------------------------\n",
      "| % time spent exploring  | 0        |\n",
      "| episodes                | 210      |\n",
      "| mean 100 episode reward | -176     |\n",
      "| steps                   | 39042    |\n",
      "--------------------------------------\n",
      "Saving model due to mean reward increase: -189.8 -> -174.1\n",
      "--------------------------------------\n",
      "| % time spent exploring  | 0        |\n",
      "| episodes                | 240      |\n",
      "| mean 100 episode reward | -174     |\n",
      "| steps                   | 44616    |\n",
      "--------------------------------------\n",
      "--------------------------------------\n",
      "| % time spent exploring  | 0        |\n",
      "| episodes                | 270      |\n",
      "| mean 100 episode reward | -183     |\n",
      "| steps                   | 50424    |\n",
      "--------------------------------------\n",
      "--------------------------------------\n",
      "| % time spent exploring  | 0        |\n",
      "| episodes                | 300      |\n",
      "| mean 100 episode reward | -170     |\n",
      "| steps                   | 54443    |\n",
      "--------------------------------------\n",
      "--------------------------------------\n",
      "| % time spent exploring  | 0        |\n",
      "| episodes                | 330      |\n",
      "| mean 100 episode reward | -158     |\n",
      "| steps                   | 58462    |\n",
      "--------------------------------------\n",
      "Saving model due to mean reward increase: -174.1 -> -148.4\n",
      "--------------------------------------\n",
      "| % time spent exploring  | 0        |\n",
      "| episodes                | 360      |\n",
      "| mean 100 episode reward | -138     |\n",
      "| steps                   | 62193    |\n",
      "--------------------------------------\n",
      "--------------------------------------\n",
      "| % time spent exploring  | 0        |\n",
      "| episodes                | 390      |\n",
      "| mean 100 episode reward | -131     |\n",
      "| steps                   | 66217    |\n",
      "--------------------------------------\n",
      "--------------------------------------\n",
      "| % time spent exploring  | 0        |\n",
      "| episodes                | 420      |\n",
      "| mean 100 episode reward | -126     |\n",
      "| steps                   | 69693    |\n",
      "--------------------------------------\n",
      "Saving model due to mean reward increase: -148.4 -> -126.0\n",
      "--------------------------------------\n",
      "| % time spent exploring  | 0        |\n",
      "| episodes                | 450      |\n",
      "| mean 100 episode reward | -122     |\n",
      "| steps                   | 73039    |\n",
      "--------------------------------------\n",
      "--------------------------------------\n",
      "| % time spent exploring  | 0        |\n",
      "| episodes                | 480      |\n",
      "| mean 100 episode reward | -113     |\n",
      "| steps                   | 76151    |\n",
      "--------------------------------------\n",
      "--------------------------------------\n",
      "| % time spent exploring  | 0        |\n",
      "| episodes                | 510      |\n",
      "| mean 100 episode reward | -109     |\n",
      "| steps                   | 79378    |\n",
      "--------------------------------------\n",
      "Saving model due to mean reward increase: -126.0 -> -108.2\n",
      "--------------------------------------\n",
      "| % time spent exploring  | 0        |\n",
      "| episodes                | 540      |\n",
      "| mean 100 episode reward | -106     |\n",
      "| steps                   | 82570    |\n",
      "--------------------------------------\n",
      "--------------------------------------\n",
      "| % time spent exploring  | 0        |\n",
      "| episodes                | 570      |\n",
      "| mean 100 episode reward | -106     |\n",
      "| steps                   | 85667    |\n",
      "--------------------------------------\n",
      "--------------------------------------\n",
      "| % time spent exploring  | 0        |\n",
      "| episodes                | 600      |\n",
      "| mean 100 episode reward | -104     |\n",
      "| steps                   | 88665    |\n",
      "--------------------------------------\n",
      "Saving model due to mean reward increase: -108.2 -> -103.8\n",
      "--------------------------------------\n",
      "| % time spent exploring  | 0        |\n",
      "| episodes                | 630      |\n",
      "| mean 100 episode reward | -104     |\n",
      "| steps                   | 91889    |\n",
      "--------------------------------------\n",
      "--------------------------------------\n",
      "| % time spent exploring  | 0        |\n",
      "| episodes                | 660      |\n",
      "| mean 100 episode reward | -106     |\n",
      "| steps                   | 95204    |\n",
      "--------------------------------------\n",
      "--------------------------------------\n",
      "| % time spent exploring  | 0        |\n",
      "| episodes                | 690      |\n",
      "| mean 100 episode reward | -108     |\n",
      "| steps                   | 98492    |\n",
      "--------------------------------------\n",
      "Restored model with mean reward: -103.8\n",
      "INFO:tensorflow:Restoring parameters from /tmp/tmpvwzwhii1/model\n"
     ]
    },
    {
     "name": "stderr",
     "output_type": "stream",
     "text": [
      "INFO:tensorflow:Restoring parameters from /tmp/tmpvwzwhii1/model\n"
     ]
    },
    {
     "name": "stdout",
     "output_type": "stream",
     "text": [
      "Saving model to mountaincar_model.pkl\n"
     ]
    }
   ],
   "source": [
    "with tf.Graph().as_default():\n",
    "    dqn.train(use_batch=False)"
   ]
  },
  {
   "cell_type": "code",
   "execution_count": null,
   "metadata": {},
   "outputs": [],
   "source": [
    "# PERcheck ?\n"
   ]
  },
  {
   "cell_type": "markdown",
   "metadata": {},
   "source": [
    "## Batch mode DQN"
   ]
  },
  {
   "cell_type": "code",
   "execution_count": null,
   "metadata": {},
   "outputs": [],
   "source": []
  },
  {
   "cell_type": "code",
   "execution_count": null,
   "metadata": {},
   "outputs": [],
   "source": []
  }
 ],
 "metadata": {
  "kernelspec": {
   "display_name": "Python 3",
   "language": "python",
   "name": "python3"
  },
  "language_info": {
   "codemirror_mode": {
    "name": "ipython",
    "version": 3
   },
   "file_extension": ".py",
   "mimetype": "text/x-python",
   "name": "python",
   "nbconvert_exporter": "python",
   "pygments_lexer": "ipython3",
   "version": "3.6.2"
  }
 },
 "nbformat": 4,
 "nbformat_minor": 2
}
