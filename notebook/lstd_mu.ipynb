{
 "cells": [
  {
   "cell_type": "code",
   "execution_count": 1,
   "metadata": {},
   "outputs": [],
   "source": [
    "import matplotlib.pyplot as plt\n",
    "%matplotlib inline\n",
    "import seaborn as sns\n",
    "sns.set(style=\"white\", palette=\"husl\")\n",
    "\n",
    "%load_ext autoreload\n",
    "%autoreload 2\n",
    "\n",
    "import numpy as np\n",
    "import gym\n",
    "import sys\n",
    "import os\n",
    "if \"../\" not in sys.path:\n",
    "    sys.path.insert(0, \"../\")\n",
    "\n",
    "    \n",
    "from logger import *\n",
    "setup_logging(default_level=logging.INFO)\n",
    "\n",
    "from sklearn import manifold, datasets\n",
    "from sklearn.utils import check_random_state\n",
    "\n",
    "\n",
    "from algo.lstd import LSTDQ, LSTDMu, LSPI\n",
    "from algo.policy import RandomPolicy2, LinearQ2\n",
    "from algo.fa import LinearQ3\n",
    "from algo.apprenticeship_learning import ApprenticeshipLearning as AL\n",
    "from env.simulator import * \n",
    "from util.plotting import *\n",
    "from util.basis import *\n"
   ]
  },
  {
   "cell_type": "code",
   "execution_count": 2,
   "metadata": {},
   "outputs": [
    {
     "name": "stdout",
     "output_type": "stream",
     "text": [
      "\u001b[33mWARN: gym.spaces.Box autodetected dtype as <class 'numpy.float32'>. Please provide explicit dtype.\u001b[0m\n"
     ]
    }
   ],
   "source": [
    "env_id = \"MountainCar-v0\"\n",
    "env = gym.envs.make(env_id)\n",
    "state_dim = env.observation_space.shape[0]\n",
    "# discrete action\n",
    "action_dim = 1\n",
    "n_action = env.action_space.n\n",
    "action_list = range(env.action_space.n)\n",
    "sim = Simulator(env, state_dim=state_dim, action_dim=action_dim)\n",
    "# default\n",
    "s_init = [-0.5, 0]"
   ]
  },
  {
   "cell_type": "code",
   "execution_count": 3,
   "metadata": {},
   "outputs": [
    {
     "name": "stdout",
     "output_type": "stream",
     "text": [
      "[-0.3  0.3]\n"
     ]
    }
   ],
   "source": [
    "# hack to give us control over the initial state\n",
    "import types\n",
    "\n",
    "def new_timelimit_reset(self, s_init=None):\n",
    "    import time\n",
    "    self._episode_started_at = time.time()\n",
    "    self._elapsed_steps = 0\n",
    "    return self.env.reset(s_init)\n",
    "\n",
    "def new_reset(self, s_init):\n",
    "    if s_init is None:\n",
    "        s_init = [np.random.uniform(-0.6, -0.4), 0]\n",
    "    self.state = np.array(s_init)\n",
    "    return np.array(self.state)\n",
    "env.reset = types.MethodType(new_timelimit_reset, env)\n",
    "env.env.reset = types.MethodType(new_reset, env.env)\n",
    "print(env.reset([-.3, 0.3]))"
   ]
  },
  {
   "cell_type": "markdown",
   "metadata": {},
   "source": [
    "## define simulator"
   ]
  },
  {
   "cell_type": "code",
   "execution_count": 4,
   "metadata": {},
   "outputs": [],
   "source": [
    "include_action = False\n",
    "# if this is True, then the state space becomes very large\n",
    "# therefore, a more denser, higher number of phi is needed\n",
    "\n",
    "p_linear = 2 * n_action\n",
    "q_linear = 2 * n_action\n",
    "phi_linear = get_linear_basis2(p_linear, n_action, include_action)\n",
    "psi_linear = phi_linear\n",
    "\n",
    "n_component = 20\n",
    "gamma_list = [0.5, 10.0, 20.0]\n",
    "p_rbf =  n_component * len(gamma_list)\n",
    "q_rbf = n_component * len(gamma_list)\n",
    "\n",
    "# technically the truly-batch mode should use D to fit rbf kenel\n",
    "phi_rbf = RBFKernel2(env, n_action, p_rbf, n_component, gamma_list, include_action).transform\n",
    "psi_rbf = phi_rbf\n",
    "\n",
    "precision = 1e-2\n",
    "eps = 0.0\n",
    "gamma = 0.99\n",
    "\n"
   ]
  },
  {
   "cell_type": "code",
   "execution_count": null,
   "metadata": {
    "scrolled": false
   },
   "outputs": [
    {
     "name": "stderr",
     "output_type": "stream",
     "text": [
      "/home/dhfromkorea/.local/lib/python3.5/site-packages/sklearn/linear_model/stochastic_gradient.py:128: FutureWarning: max_iter and tol parameters have been added in <class 'sklearn.linear_model.stochastic_gradient.SGDRegressor'> in 0.19. If both are left unset, they default to max_iter=5 and tol=None. If tol is not None, max_iter defaults to max_iter=1000. From 0.21, default max_iter will be 1000, and default tol will be 1e-3.\n",
      "  \"and default tol will be 1e-3.\" % type(self), FutureWarning)\n"
     ]
    },
    {
     "name": "stdout",
     "output_type": "stream",
     "text": [
      "Step 30 @ Episode 87/150 (-200.0))"
     ]
    },
    {
     "ename": "KeyboardInterrupt",
     "evalue": "",
     "output_type": "error",
     "traceback": [
      "\u001b[0;31m---------------------------------------------------------------------------\u001b[0m",
      "\u001b[0;31mKeyboardInterrupt\u001b[0m                         Traceback (most recent call last)",
      "\u001b[0;32m<ipython-input-190-f72d95946b23>\u001b[0m in \u001b[0;36m<module>\u001b[0;34m()\u001b[0m\n\u001b[1;32m     11\u001b[0m                       gamma=gamma)\n\u001b[1;32m     12\u001b[0m \u001b[0;34m\u001b[0m\u001b[0m\n\u001b[0;32m---> 13\u001b[0;31m \u001b[0mpi_expert\u001b[0m\u001b[0;34m,\u001b[0m \u001b[0mstats\u001b[0m \u001b[0;34m=\u001b[0m \u001b[0mmdp_solver\u001b[0m\u001b[0;34m.\u001b[0m\u001b[0msolve\u001b[0m\u001b[0;34m(\u001b[0m\u001b[0mreward_fn\u001b[0m\u001b[0;34m=\u001b[0m\u001b[0;32mNone\u001b[0m\u001b[0;34m)\u001b[0m\u001b[0;34m\u001b[0m\u001b[0m\n\u001b[0m\u001b[1;32m     14\u001b[0m \u001b[0mplotting\u001b[0m\u001b[0;34m.\u001b[0m\u001b[0mplot_cost_to_go_mountain_car\u001b[0m\u001b[0;34m(\u001b[0m\u001b[0menv\u001b[0m\u001b[0;34m,\u001b[0m \u001b[0mpi_expert\u001b[0m\u001b[0;34m.\u001b[0m\u001b[0m_estimator\u001b[0m\u001b[0;34m)\u001b[0m\u001b[0;34m\u001b[0m\u001b[0m\n\u001b[1;32m     15\u001b[0m \u001b[0mplotting\u001b[0m\u001b[0;34m.\u001b[0m\u001b[0mplot_episode_stats\u001b[0m\u001b[0;34m(\u001b[0m\u001b[0mstats\u001b[0m\u001b[0;34m,\u001b[0m \u001b[0msmoothing_window\u001b[0m\u001b[0;34m=\u001b[0m\u001b[0;36m10\u001b[0m\u001b[0;34m)\u001b[0m\u001b[0;34m\u001b[0m\u001b[0m\n",
      "\u001b[0;32m~/Dropbox/master_personal/code_dh/scripts/harvard/courses/mighty-rl/algo/fa.py\u001b[0m in \u001b[0;36msolve\u001b[0;34m(self, reward_fn)\u001b[0m\n\u001b[1;32m    152\u001b[0m \u001b[0;34m\u001b[0m\u001b[0m\n\u001b[1;32m    153\u001b[0m \u001b[0;34m\u001b[0m\u001b[0m\n\u001b[0;32m--> 154\u001b[0;31m                 \u001b[0maction\u001b[0m \u001b[0;34m=\u001b[0m \u001b[0mpi\u001b[0m\u001b[0;34m.\u001b[0m\u001b[0mchoose_action\u001b[0m\u001b[0;34m(\u001b[0m\u001b[0mstate\u001b[0m\u001b[0;34m)\u001b[0m\u001b[0;34m\u001b[0m\u001b[0m\n\u001b[0m\u001b[1;32m    155\u001b[0m \u001b[0;34m\u001b[0m\u001b[0m\n\u001b[1;32m    156\u001b[0m                 \u001b[0mnext_state\u001b[0m\u001b[0;34m,\u001b[0m \u001b[0mreward\u001b[0m\u001b[0;34m,\u001b[0m \u001b[0mdone\u001b[0m\u001b[0;34m,\u001b[0m \u001b[0m_\u001b[0m \u001b[0;34m=\u001b[0m \u001b[0mself\u001b[0m\u001b[0;34m.\u001b[0m\u001b[0m_env\u001b[0m\u001b[0;34m.\u001b[0m\u001b[0mstep\u001b[0m\u001b[0;34m(\u001b[0m\u001b[0maction\u001b[0m\u001b[0;34m)\u001b[0m\u001b[0;34m\u001b[0m\u001b[0m\n",
      "\u001b[0;32m~/Dropbox/master_personal/code_dh/scripts/harvard/courses/mighty-rl/algo/fa.py\u001b[0m in \u001b[0;36mchoose_action\u001b[0;34m(self, s)\u001b[0m\n\u001b[1;32m     70\u001b[0m \u001b[0;34m\u001b[0m\u001b[0m\n\u001b[1;32m     71\u001b[0m     \u001b[0;32mdef\u001b[0m \u001b[0mchoose_action\u001b[0m\u001b[0;34m(\u001b[0m\u001b[0mself\u001b[0m\u001b[0;34m,\u001b[0m \u001b[0ms\u001b[0m\u001b[0;34m)\u001b[0m\u001b[0;34m:\u001b[0m\u001b[0;34m\u001b[0m\u001b[0m\n\u001b[0;32m---> 72\u001b[0;31m         \u001b[0mp\u001b[0m \u001b[0;34m=\u001b[0m \u001b[0mself\u001b[0m\u001b[0;34m.\u001b[0m\u001b[0m_action_probs\u001b[0m\u001b[0;34m(\u001b[0m\u001b[0ms\u001b[0m\u001b[0;34m)\u001b[0m\u001b[0;34m\u001b[0m\u001b[0m\n\u001b[0m\u001b[1;32m     73\u001b[0m         \u001b[0ma\u001b[0m \u001b[0;34m=\u001b[0m \u001b[0mnp\u001b[0m\u001b[0;34m.\u001b[0m\u001b[0mrandom\u001b[0m\u001b[0;34m.\u001b[0m\u001b[0mchoice\u001b[0m\u001b[0;34m(\u001b[0m\u001b[0mnp\u001b[0m\u001b[0;34m.\u001b[0m\u001b[0marange\u001b[0m\u001b[0;34m(\u001b[0m\u001b[0mlen\u001b[0m\u001b[0;34m(\u001b[0m\u001b[0mp\u001b[0m\u001b[0;34m)\u001b[0m\u001b[0;34m)\u001b[0m\u001b[0;34m,\u001b[0m \u001b[0mp\u001b[0m\u001b[0;34m=\u001b[0m\u001b[0mp\u001b[0m\u001b[0;34m)\u001b[0m\u001b[0;34m\u001b[0m\u001b[0m\n\u001b[1;32m     74\u001b[0m         \u001b[0;32mreturn\u001b[0m \u001b[0ma\u001b[0m\u001b[0;34m\u001b[0m\u001b[0m\n",
      "\u001b[0;32m~/Dropbox/master_personal/code_dh/scripts/harvard/courses/mighty-rl/algo/fa.py\u001b[0m in \u001b[0;36m_action_probs\u001b[0;34m(self, s)\u001b[0m\n\u001b[1;32m     64\u001b[0m     \u001b[0;32mdef\u001b[0m \u001b[0m_action_probs\u001b[0m\u001b[0;34m(\u001b[0m\u001b[0mself\u001b[0m\u001b[0;34m,\u001b[0m \u001b[0ms\u001b[0m\u001b[0;34m)\u001b[0m\u001b[0;34m:\u001b[0m\u001b[0;34m\u001b[0m\u001b[0m\n\u001b[1;32m     65\u001b[0m         \u001b[0mprobs\u001b[0m \u001b[0;34m=\u001b[0m \u001b[0mnp\u001b[0m\u001b[0;34m.\u001b[0m\u001b[0mones\u001b[0m\u001b[0;34m(\u001b[0m\u001b[0mself\u001b[0m\u001b[0;34m.\u001b[0m\u001b[0m_nA\u001b[0m\u001b[0;34m,\u001b[0m \u001b[0mdtype\u001b[0m\u001b[0;34m=\u001b[0m\u001b[0mfloat\u001b[0m\u001b[0;34m)\u001b[0m \u001b[0;34m*\u001b[0m \u001b[0mself\u001b[0m\u001b[0;34m.\u001b[0m\u001b[0m_eps\u001b[0m \u001b[0;34m/\u001b[0m \u001b[0mself\u001b[0m\u001b[0;34m.\u001b[0m\u001b[0m_nA\u001b[0m\u001b[0;34m\u001b[0m\u001b[0m\n\u001b[0;32m---> 66\u001b[0;31m         \u001b[0mq_values\u001b[0m \u001b[0;34m=\u001b[0m \u001b[0mself\u001b[0m\u001b[0;34m.\u001b[0m\u001b[0m_estimator\u001b[0m\u001b[0;34m.\u001b[0m\u001b[0mpredict\u001b[0m\u001b[0;34m(\u001b[0m\u001b[0ms\u001b[0m\u001b[0;34m)\u001b[0m\u001b[0;34m\u001b[0m\u001b[0m\n\u001b[0m\u001b[1;32m     67\u001b[0m         \u001b[0mbest_action\u001b[0m \u001b[0;34m=\u001b[0m \u001b[0mnp\u001b[0m\u001b[0;34m.\u001b[0m\u001b[0margmax\u001b[0m\u001b[0;34m(\u001b[0m\u001b[0mq_values\u001b[0m\u001b[0;34m)\u001b[0m\u001b[0;34m\u001b[0m\u001b[0m\n\u001b[1;32m     68\u001b[0m         \u001b[0mprobs\u001b[0m\u001b[0;34m[\u001b[0m\u001b[0mbest_action\u001b[0m\u001b[0;34m]\u001b[0m \u001b[0;34m+=\u001b[0m \u001b[0;34m(\u001b[0m\u001b[0;36m1.0\u001b[0m \u001b[0;34m-\u001b[0m \u001b[0mself\u001b[0m\u001b[0;34m.\u001b[0m\u001b[0m_eps\u001b[0m\u001b[0;34m)\u001b[0m\u001b[0;34m\u001b[0m\u001b[0m\n",
      "\u001b[0;32m~/Dropbox/master_personal/code_dh/scripts/harvard/courses/mighty-rl/algo/fa.py\u001b[0m in \u001b[0;36mpredict\u001b[0;34m(self, s, a)\u001b[0m\n\u001b[1;32m     37\u001b[0m             \u001b[0mQ\u001b[0m \u001b[0;34m=\u001b[0m \u001b[0;34m[\u001b[0m\u001b[0;34m]\u001b[0m\u001b[0;34m\u001b[0m\u001b[0m\n\u001b[1;32m     38\u001b[0m             \u001b[0;32mfor\u001b[0m \u001b[0mm\u001b[0m\u001b[0;34m,\u001b[0m \u001b[0ma\u001b[0m \u001b[0;32min\u001b[0m \u001b[0mzip\u001b[0m\u001b[0;34m(\u001b[0m\u001b[0mself\u001b[0m\u001b[0;34m.\u001b[0m\u001b[0mmodels\u001b[0m\u001b[0;34m,\u001b[0m \u001b[0mrange\u001b[0m\u001b[0;34m(\u001b[0m\u001b[0mself\u001b[0m\u001b[0;34m.\u001b[0m\u001b[0m_env\u001b[0m\u001b[0;34m.\u001b[0m\u001b[0maction_space\u001b[0m\u001b[0;34m.\u001b[0m\u001b[0mn\u001b[0m\u001b[0;34m)\u001b[0m\u001b[0;34m)\u001b[0m\u001b[0;34m:\u001b[0m\u001b[0;34m\u001b[0m\u001b[0m\n\u001b[0;32m---> 39\u001b[0;31m                 \u001b[0mfeatures\u001b[0m \u001b[0;34m=\u001b[0m \u001b[0mself\u001b[0m\u001b[0;34m.\u001b[0m\u001b[0m_phi\u001b[0m\u001b[0;34m(\u001b[0m\u001b[0ms\u001b[0m\u001b[0;34m,\u001b[0m \u001b[0ma\u001b[0m\u001b[0;34m)\u001b[0m\u001b[0;34m[\u001b[0m\u001b[0;36m0\u001b[0m\u001b[0;34m,\u001b[0m \u001b[0mself\u001b[0m\u001b[0;34m.\u001b[0m\u001b[0m_p\u001b[0m\u001b[0;34m*\u001b[0m\u001b[0ma\u001b[0m\u001b[0;34m:\u001b[0m\u001b[0mself\u001b[0m\u001b[0;34m.\u001b[0m\u001b[0m_p\u001b[0m\u001b[0;34m*\u001b[0m\u001b[0;34m(\u001b[0m\u001b[0ma\u001b[0m\u001b[0;34m+\u001b[0m\u001b[0;36m1\u001b[0m\u001b[0;34m)\u001b[0m\u001b[0;34m]\u001b[0m\u001b[0;34m\u001b[0m\u001b[0m\n\u001b[0m\u001b[1;32m     40\u001b[0m                 \u001b[0mQ\u001b[0m\u001b[0;34m.\u001b[0m\u001b[0mappend\u001b[0m\u001b[0;34m(\u001b[0m\u001b[0mm\u001b[0m\u001b[0;34m.\u001b[0m\u001b[0mpredict\u001b[0m\u001b[0;34m(\u001b[0m\u001b[0;34m[\u001b[0m\u001b[0mfeatures\u001b[0m\u001b[0;34m]\u001b[0m\u001b[0;34m)\u001b[0m\u001b[0;34m[\u001b[0m\u001b[0;36m0\u001b[0m\u001b[0;34m]\u001b[0m\u001b[0;34m)\u001b[0m\u001b[0;34m\u001b[0m\u001b[0m\n\u001b[1;32m     41\u001b[0m             \u001b[0;32mreturn\u001b[0m \u001b[0mnp\u001b[0m\u001b[0;34m.\u001b[0m\u001b[0marray\u001b[0m\u001b[0;34m(\u001b[0m\u001b[0mQ\u001b[0m\u001b[0;34m)\u001b[0m\u001b[0;34m\u001b[0m\u001b[0m\n",
      "\u001b[0;32m~/Dropbox/master_personal/code_dh/scripts/harvard/courses/mighty-rl/util/basis.py\u001b[0m in \u001b[0;36mtransform\u001b[0;34m(self, s, a)\u001b[0m\n\u001b[1;32m    137\u001b[0m             \u001b[0ms\u001b[0m \u001b[0;34m=\u001b[0m \u001b[0mnp\u001b[0m\u001b[0;34m.\u001b[0m\u001b[0mexpand_dims\u001b[0m\u001b[0;34m(\u001b[0m\u001b[0ms\u001b[0m\u001b[0;34m,\u001b[0m \u001b[0maxis\u001b[0m\u001b[0;34m=\u001b[0m\u001b[0;36m0\u001b[0m\u001b[0;34m)\u001b[0m\u001b[0;34m\u001b[0m\u001b[0m\n\u001b[1;32m    138\u001b[0m         \u001b[0ms\u001b[0m \u001b[0;34m=\u001b[0m \u001b[0mself\u001b[0m\u001b[0;34m.\u001b[0m\u001b[0m_scaler\u001b[0m\u001b[0;34m.\u001b[0m\u001b[0mtransform\u001b[0m\u001b[0;34m(\u001b[0m\u001b[0ms\u001b[0m\u001b[0;34m)\u001b[0m\u001b[0;34m\u001b[0m\u001b[0m\n\u001b[0;32m--> 139\u001b[0;31m         \u001b[0mphi_s\u001b[0m \u001b[0;34m=\u001b[0m \u001b[0mself\u001b[0m\u001b[0;34m.\u001b[0m\u001b[0m_phi\u001b[0m\u001b[0;34m.\u001b[0m\u001b[0mtransform\u001b[0m\u001b[0;34m(\u001b[0m\u001b[0ms\u001b[0m\u001b[0;34m)\u001b[0m\u001b[0;34m\u001b[0m\u001b[0m\n\u001b[0m\u001b[1;32m    140\u001b[0m \u001b[0;34m\u001b[0m\u001b[0m\n\u001b[1;32m    141\u001b[0m         \u001b[0;32mif\u001b[0m \u001b[0ms\u001b[0m\u001b[0;34m.\u001b[0m\u001b[0mshape\u001b[0m\u001b[0;34m[\u001b[0m\u001b[0;36m0\u001b[0m\u001b[0;34m]\u001b[0m \u001b[0;34m==\u001b[0m \u001b[0;36m1\u001b[0m\u001b[0;34m:\u001b[0m\u001b[0;34m\u001b[0m\u001b[0m\n",
      "\u001b[0;32m~/.local/lib/python3.5/site-packages/sklearn/pipeline.py\u001b[0m in \u001b[0;36mtransform\u001b[0;34m(self, X)\u001b[0m\n\u001b[1;32m    766\u001b[0m         Xs = Parallel(n_jobs=self.n_jobs)(\n\u001b[1;32m    767\u001b[0m             \u001b[0mdelayed\u001b[0m\u001b[0;34m(\u001b[0m\u001b[0m_transform_one\u001b[0m\u001b[0;34m)\u001b[0m\u001b[0;34m(\u001b[0m\u001b[0mtrans\u001b[0m\u001b[0;34m,\u001b[0m \u001b[0mweight\u001b[0m\u001b[0;34m,\u001b[0m \u001b[0mX\u001b[0m\u001b[0;34m)\u001b[0m\u001b[0;34m\u001b[0m\u001b[0m\n\u001b[0;32m--> 768\u001b[0;31m             for name, trans, weight in self._iter())\n\u001b[0m\u001b[1;32m    769\u001b[0m         \u001b[0;32mif\u001b[0m \u001b[0;32mnot\u001b[0m \u001b[0mXs\u001b[0m\u001b[0;34m:\u001b[0m\u001b[0;34m\u001b[0m\u001b[0m\n\u001b[1;32m    770\u001b[0m             \u001b[0;31m# All transformers are None\u001b[0m\u001b[0;34m\u001b[0m\u001b[0;34m\u001b[0m\u001b[0m\n",
      "\u001b[0;32m~/.local/lib/python3.5/site-packages/sklearn/externals/joblib/parallel.py\u001b[0m in \u001b[0;36m__call__\u001b[0;34m(self, iterable)\u001b[0m\n\u001b[1;32m    777\u001b[0m             \u001b[0;31m# was dispatched. In particular this covers the edge\u001b[0m\u001b[0;34m\u001b[0m\u001b[0;34m\u001b[0m\u001b[0m\n\u001b[1;32m    778\u001b[0m             \u001b[0;31m# case of Parallel used with an exhausted iterator.\u001b[0m\u001b[0;34m\u001b[0m\u001b[0;34m\u001b[0m\u001b[0m\n\u001b[0;32m--> 779\u001b[0;31m             \u001b[0;32mwhile\u001b[0m \u001b[0mself\u001b[0m\u001b[0;34m.\u001b[0m\u001b[0mdispatch_one_batch\u001b[0m\u001b[0;34m(\u001b[0m\u001b[0miterator\u001b[0m\u001b[0;34m)\u001b[0m\u001b[0;34m:\u001b[0m\u001b[0;34m\u001b[0m\u001b[0m\n\u001b[0m\u001b[1;32m    780\u001b[0m                 \u001b[0mself\u001b[0m\u001b[0;34m.\u001b[0m\u001b[0m_iterating\u001b[0m \u001b[0;34m=\u001b[0m \u001b[0;32mTrue\u001b[0m\u001b[0;34m\u001b[0m\u001b[0m\n\u001b[1;32m    781\u001b[0m             \u001b[0;32melse\u001b[0m\u001b[0;34m:\u001b[0m\u001b[0;34m\u001b[0m\u001b[0m\n",
      "\u001b[0;32m~/.local/lib/python3.5/site-packages/sklearn/externals/joblib/parallel.py\u001b[0m in \u001b[0;36mdispatch_one_batch\u001b[0;34m(self, iterator)\u001b[0m\n\u001b[1;32m    618\u001b[0m \u001b[0;34m\u001b[0m\u001b[0m\n\u001b[1;32m    619\u001b[0m         \u001b[0;32mwith\u001b[0m \u001b[0mself\u001b[0m\u001b[0;34m.\u001b[0m\u001b[0m_lock\u001b[0m\u001b[0;34m:\u001b[0m\u001b[0;34m\u001b[0m\u001b[0m\n\u001b[0;32m--> 620\u001b[0;31m             \u001b[0mtasks\u001b[0m \u001b[0;34m=\u001b[0m \u001b[0mBatchedCalls\u001b[0m\u001b[0;34m(\u001b[0m\u001b[0mitertools\u001b[0m\u001b[0;34m.\u001b[0m\u001b[0mislice\u001b[0m\u001b[0;34m(\u001b[0m\u001b[0miterator\u001b[0m\u001b[0;34m,\u001b[0m \u001b[0mbatch_size\u001b[0m\u001b[0;34m)\u001b[0m\u001b[0;34m)\u001b[0m\u001b[0;34m\u001b[0m\u001b[0m\n\u001b[0m\u001b[1;32m    621\u001b[0m             \u001b[0;32mif\u001b[0m \u001b[0mlen\u001b[0m\u001b[0;34m(\u001b[0m\u001b[0mtasks\u001b[0m\u001b[0;34m)\u001b[0m \u001b[0;34m==\u001b[0m \u001b[0;36m0\u001b[0m\u001b[0;34m:\u001b[0m\u001b[0;34m\u001b[0m\u001b[0m\n\u001b[1;32m    622\u001b[0m                 \u001b[0;31m# No more tasks available in the iterator: tell caller to stop.\u001b[0m\u001b[0;34m\u001b[0m\u001b[0;34m\u001b[0m\u001b[0m\n",
      "\u001b[0;32m~/.local/lib/python3.5/site-packages/sklearn/externals/joblib/parallel.py\u001b[0m in \u001b[0;36m__init__\u001b[0;34m(self, iterator_slice)\u001b[0m\n\u001b[1;32m    125\u001b[0m \u001b[0;34m\u001b[0m\u001b[0m\n\u001b[1;32m    126\u001b[0m     \u001b[0;32mdef\u001b[0m \u001b[0m__init__\u001b[0m\u001b[0;34m(\u001b[0m\u001b[0mself\u001b[0m\u001b[0;34m,\u001b[0m \u001b[0miterator_slice\u001b[0m\u001b[0;34m)\u001b[0m\u001b[0;34m:\u001b[0m\u001b[0;34m\u001b[0m\u001b[0m\n\u001b[0;32m--> 127\u001b[0;31m         \u001b[0mself\u001b[0m\u001b[0;34m.\u001b[0m\u001b[0mitems\u001b[0m \u001b[0;34m=\u001b[0m \u001b[0mlist\u001b[0m\u001b[0;34m(\u001b[0m\u001b[0miterator_slice\u001b[0m\u001b[0;34m)\u001b[0m\u001b[0;34m\u001b[0m\u001b[0m\n\u001b[0m\u001b[1;32m    128\u001b[0m         \u001b[0mself\u001b[0m\u001b[0;34m.\u001b[0m\u001b[0m_size\u001b[0m \u001b[0;34m=\u001b[0m \u001b[0mlen\u001b[0m\u001b[0;34m(\u001b[0m\u001b[0mself\u001b[0m\u001b[0;34m.\u001b[0m\u001b[0mitems\u001b[0m\u001b[0;34m)\u001b[0m\u001b[0;34m\u001b[0m\u001b[0m\n\u001b[1;32m    129\u001b[0m \u001b[0;34m\u001b[0m\u001b[0m\n",
      "\u001b[0;31mKeyboardInterrupt\u001b[0m: "
     ]
    },
    {
     "name": "stderr",
     "output_type": "stream",
     "text": [
      "ERROR:tornado.general:Uncaught exception in ZMQStream callback\n",
      "Traceback (most recent call last):\n",
      "  File \"/home/dhfromkorea/.local/lib/python3.5/site-packages/zmq/eventloop/zmqstream.py\", line 432, in _run_callback\n",
      "    callback(*args, **kwargs)\n",
      "  File \"/home/dhfromkorea/.local/lib/python3.5/site-packages/tornado/stack_context.py\", line 277, in null_wrapper\n",
      "    return fn(*args, **kwargs)\n",
      "  File \"/home/dhfromkorea/.local/lib/python3.5/site-packages/ipykernel/kernelbase.py\", line 283, in dispatcher\n",
      "    return self.dispatch_shell(stream, msg)\n",
      "  File \"/home/dhfromkorea/.local/lib/python3.5/site-packages/ipykernel/kernelbase.py\", line 233, in dispatch_shell\n",
      "    handler(stream, idents, msg)\n",
      "  File \"/home/dhfromkorea/.local/lib/python3.5/site-packages/ipykernel/kernelbase.py\", line 421, in execute_request\n",
      "    self._abort_queues()\n",
      "  File \"/home/dhfromkorea/.local/lib/python3.5/site-packages/ipykernel/kernelbase.py\", line 636, in _abort_queues\n",
      "    self._abort_queue(stream)\n",
      "  File \"/home/dhfromkorea/.local/lib/python3.5/site-packages/ipykernel/kernelbase.py\", line 661, in _abort_queue\n",
      "    poller.poll(50)\n",
      "  File \"/home/dhfromkorea/.local/lib/python3.5/site-packages/zmq/sugar/poll.py\", line 99, in poll\n",
      "    return zmq_poll(self.sockets, timeout=timeout)\n",
      "  File \"zmq/backend/cython/_poll.pyx\", line 123, in zmq.backend.cython._poll.zmq_poll\n",
      "  File \"zmq/backend/cython/checkrc.pxd\", line 12, in zmq.backend.cython.checkrc._check_rc\n",
      "KeyboardInterrupt\n"
     ]
    }
   ],
   "source": [
    "phi = phi_rbf\n",
    "p = p_rbf\n",
    "\n",
    "mdp_solver = LinearQ3(env=env,\n",
    "                      phi=phi,\n",
    "                      p=p,\n",
    "                      action_list=action_list,\n",
    "                      n_episode=100,\n",
    "                      epsilon=0.0,\n",
    "                      epsilon_decay=1.00,\n",
    "                      gamma=gamma)\n",
    "\n",
    "pi_expert, stats = mdp_solver.solve(reward_fn=None)\n",
    "plotting.plot_cost_to_go_mountain_car(env, pi_expert._estimator)\n",
    "plotting.plot_episode_stats(stats, smoothing_window=10)"
   ]
  },
  {
   "cell_type": "markdown",
   "metadata": {},
   "source": [
    "## generate trajectories under expert policy (=D)"
   ]
  },
  {
   "cell_type": "code",
   "execution_count": 26,
   "metadata": {},
   "outputs": [
    {
     "name": "stdout",
     "output_type": "stream",
     "text": [
      "Step 165 @ Episode 70/70 (-167.0)"
     ]
    }
   ],
   "source": [
    "class NearExpertPolicy():\n",
    "    \"\"\"\n",
    "    hard-coded near-optimal expert policy\n",
    "    for mountaincar-v0\n",
    "    \"\"\"\n",
    "    def choose_action(self, s):\n",
    "        pos, v = s\n",
    "        c = np.random.uniform(-0.1, 0.1)\n",
    "        c = 0\n",
    "        return 0 if v <= c else 2\n",
    "\n",
    "class OppositeNearExpertPolicy():\n",
    "    \"\"\"\n",
    "    hard-coded near-optimal expert policy\n",
    "    for mountaincar-v0\n",
    "    \"\"\"\n",
    "    def choose_action(self, s):\n",
    "        pos, v = s\n",
    "        c = np.random.uniform(-0.1, 0.1)\n",
    "        return 0 if v > c else 2\n",
    "    \n",
    "pi_near = NearExpertPolicy()\n",
    "pi_near_ops = OppositeNearExpertPolicy()\n",
    "pi_random = RandomPolicy2(action_list)\n",
    "#D, stats = sim.simulate(pi=pi_expert, n_trial=1, n_episode=100, return_stats=True)\n",
    "\n",
    "# todo: purify\n",
    "pi_list = [pi_random, pi_near_ops, pi_near, pi_expert]\n",
    "mix_ratio = [0.1, 0.2, 0.7, 0.0]\n",
    "sample_size = 100\n",
    "D = sim.simulate_mixed(env, pi_list, sample_size, mix_ratio)"
   ]
  },
  {
   "cell_type": "code",
   "execution_count": 27,
   "metadata": {},
   "outputs": [
    {
     "data": {
      "image/png": "[encoded data removed]",
      "text/plain": [
       "<matplotlib.figure.Figure at 0x7f55ff37fd30>"
      ]
     },
     "metadata": {},
     "output_type": "display_data"
    }
   ],
   "source": [
    "#plot_cost_to_go_mountain_car(env, pi_irl._estimator)\n",
    "#plot_episode_stats(stZts, smoothing_window=5)\n",
    "#dir(Simulator.to_matrixZ\n",
    "plot_trajectory_mountain_car(D)\n",
    "# must run this!!!\n",
    "D_mat = Simulator.to_matrix(D)"
   ]
  },
  {
   "cell_type": "markdown",
   "metadata": {},
   "source": [
    "## compare Mu_mc to Mu_lstd\n",
    "- given a set of initial points\n",
    "- mu_mc obtained from simulatation\n",
    "- mu_lstd learned from D\n",
    "- both linear and rbf"
   ]
  },
  {
   "cell_type": "code",
   "execution_count": 5,
   "metadata": {},
   "outputs": [
    {
     "ename": "NameError",
     "evalue": "name 'pi_near' is not defined",
     "output_type": "error",
     "traceback": [
      "\u001b[0;31m---------------------------------------------------------------------------\u001b[0m",
      "\u001b[0;31mNameError\u001b[0m                                 Traceback (most recent call last)",
      "\u001b[0;32m<ipython-input-5-734998d177b6>\u001b[0m in \u001b[0;36m<module>\u001b[0;34m()\u001b[0m\n\u001b[1;32m      1\u001b[0m \u001b[0;31m# define policy to evaluate\u001b[0m\u001b[0;34m\u001b[0m\u001b[0;34m\u001b[0m\u001b[0m\n\u001b[0;32m----> 2\u001b[0;31m \u001b[0mpi_eval\u001b[0m \u001b[0;34m=\u001b[0m \u001b[0mpi_near\u001b[0m\u001b[0;34m\u001b[0m\u001b[0m\n\u001b[0m\u001b[1;32m      3\u001b[0m \u001b[0mphi\u001b[0m \u001b[0;34m=\u001b[0m \u001b[0mphi_linear\u001b[0m\u001b[0;34m\u001b[0m\u001b[0m\n\u001b[1;32m      4\u001b[0m \u001b[0;31m# default\u001b[0m\u001b[0;34m\u001b[0m\u001b[0;34m\u001b[0m\u001b[0m\n\u001b[1;32m      5\u001b[0m \u001b[0ms_init\u001b[0m \u001b[0;34m=\u001b[0m \u001b[0;34m[\u001b[0m\u001b[0;34m-\u001b[0m\u001b[0;36m0.5\u001b[0m\u001b[0;34m,\u001b[0m \u001b[0;36m0\u001b[0m\u001b[0;34m]\u001b[0m\u001b[0;34m\u001b[0m\u001b[0m\n",
      "\u001b[0;31mNameError\u001b[0m: name 'pi_near' is not defined"
     ]
    }
   ],
   "source": [
    "# define policy to evaluate\n",
    "pi_eval = pi_near\n"
   ]
  },
  {
   "cell_type": "markdown",
   "metadata": {},
   "source": [
    "## run mu_mc with linear"
   ]
  },
  {
   "cell_type": "code",
   "execution_count": 62,
   "metadata": {},
   "outputs": [
    {
     "name": "stderr",
     "output_type": "stream",
     "text": [
      "INFO:root:estimating mu with 50 samples\n"
     ]
    }
   ],
   "source": [
    "# montecarlo roll outs\n",
    "sample_size_mc = 50\n",
    "\n",
    "# set of initial points to test for\n",
    "s_init_list = np.linspace(-0.6, -0.4, 20)\n",
    "mu_mc_linear = {}\n",
    "for s_init in s_init_list:\n",
    "    mu_mc, epi_len = AL.estimate_mu(env=env,\n",
    "                            pi_eval=pi_eval,\n",
    "                            mu_sample_size=sample_size_mc,\n",
    "                            phi=phi_linear,\n",
    "                            gamma=gamma,\n",
    "                            return_epi_len=True,\n",
    "                            s_init=s_init)\n",
    "    mu_mc_linear[s_init] = mu_mc\n",
    "mu_mc_linear"
   ]
  },
  {
   "cell_type": "markdown",
   "metadata": {},
   "source": [
    "## run_mu_lstd with linear"
   ]
  },
  {
   "cell_type": "code",
   "execution_count": 48,
   "metadata": {},
   "outputs": [
    {
     "name": "stdout",
     "output_type": "stream",
     "text": [
      "> /home/dhfromkorea/Dropbox/master_personal/code_dh/scripts/harvard/courses/mighty-rl/algo/lstd.py(166)fit()\n",
      "-> psi = self._psi(s, a)\n",
      "(Pdb) l\n",
      "161  \t        A_hat += self._eps * np.identity(self._q)\n",
      "162  \t        b_hat = np.zeros((self._q, self._p))\n",
      "163  \t        import pdb;pdb.set_trace()\n",
      "164  \t\n",
      "165  \t        # perhaps can be done in one step?\n",
      "166  ->\t        psi = self._psi(s, a)\n",
      "167  \t        psi_next = self._psi(s_next, a_next)\n",
      "168  \t        psi_next[absorb.flatten(), :] = 0\n",
      "169  \t        psi_delta = psi - self._gamma * psi_next\n",
      "170  \t\n",
      "171  \t        # A_hat: q x q matrix\n",
      "(Pdb) n\n",
      "> /home/dhfromkorea/Dropbox/master_personal/code_dh/scripts/harvard/courses/mighty-rl/algo/lstd.py(167)fit()\n",
      "-> psi_next = self._psi(s_next, a_next)\n",
      "(Pdb) n\n",
      "> /home/dhfromkorea/Dropbox/master_personal/code_dh/scripts/harvard/courses/mighty-rl/algo/lstd.py(168)fit()\n",
      "-> psi_next[absorb.flatten(), :] = 0\n",
      "(Pdb) psi.shape\n",
      "(17690, 3, 40)\n",
      "(Pdb) psi_next.shape\n",
      "(17690, 3, 40)\n",
      "(Pdb) l\n",
      "163  \t        import pdb;pdb.set_trace()\n",
      "164  \t\n",
      "165  \t        # perhaps can be done in one step?\n",
      "166  \t        psi = self._psi(s, a)\n",
      "167  \t        psi_next = self._psi(s_next, a_next)\n",
      "168  ->\t        psi_next[absorb.flatten(), :] = 0\n",
      "169  \t        psi_delta = psi - self._gamma * psi_next\n",
      "170  \t\n",
      "171  \t        # A_hat: q x q matrix\n",
      "172  \t        A_hat = psi.T.dot(psi_delta)\n",
      "173  \t        # b_hat: q x p matrix\n",
      "(Pdb) n\n",
      "> /home/dhfromkorea/Dropbox/master_personal/code_dh/scripts/harvard/courses/mighty-rl/algo/lstd.py(169)fit()\n",
      "-> psi_delta = psi - self._gamma * psi_next\n",
      "(Pdb) psi_next.shape\n",
      "(17690, 3, 40)\n",
      "(Pdb) psi_next\n",
      "array([[[ 0.31377684,  0.3067503 , -0.00661512, ..., -0.31041295,\n",
      "          0.00811186, -0.07949564],\n",
      "        [ 0.        ,  0.        ,  0.        , ...,  0.        ,\n",
      "          0.        ,  0.        ],\n",
      "        [ 0.        ,  0.        ,  0.        , ...,  0.        ,\n",
      "          0.        ,  0.        ]],\n",
      "\n",
      "       [[ 0.31246429,  0.30591926, -0.01025837, ..., -0.31607483,\n",
      "          0.01741464, -0.11428812],\n",
      "        [ 0.        ,  0.        ,  0.        , ...,  0.        ,\n",
      "          0.        ,  0.        ],\n",
      "        [ 0.        ,  0.        ,  0.        , ...,  0.        ,\n",
      "          0.        ,  0.        ]],\n",
      "\n",
      "       [[ 0.31429914,  0.30700015, -0.00589965, ..., -0.30147864,\n",
      "          0.01371838, -0.06408207],\n",
      "        [ 0.        ,  0.        ,  0.        , ...,  0.        ,\n",
      "          0.        ,  0.        ],\n",
      "        [ 0.        ,  0.        ,  0.        , ...,  0.        ,\n",
      "          0.        ,  0.        ]],\n",
      "\n",
      "       ...,\n",
      "\n",
      "       [[ 0.        ,  0.        ,  0.        , ...,  0.        ,\n",
      "          0.        ,  0.        ],\n",
      "        [ 0.        ,  0.        ,  0.        , ...,  0.        ,\n",
      "          0.        ,  0.        ],\n",
      "        [-0.30744019,  0.28768776,  0.11897253, ..., -0.30863257,\n",
      "          0.17508429, -0.15249745]],\n",
      "\n",
      "       [[ 0.        ,  0.        ,  0.        , ...,  0.        ,\n",
      "          0.        ,  0.        ],\n",
      "        [ 0.        ,  0.        ,  0.        , ...,  0.        ,\n",
      "          0.        ,  0.        ],\n",
      "        [-0.31117828,  0.29051101,  0.13515662, ..., -0.2865484 ,\n",
      "         -0.04232021, -0.12083726]],\n",
      "\n",
      "       [[ 0.        ,  0.        ,  0.        , ...,  0.        ,\n",
      "          0.        ,  0.        ],\n",
      "        [ 0.        ,  0.        ,  0.        , ...,  0.        ,\n",
      "          0.        ,  0.        ],\n",
      "        [ 0.        ,  0.        ,  0.        , ...,  0.        ,\n",
      "          0.        ,  0.        ]]])\n",
      "(Pdb) n\n",
      "> /home/dhfromkorea/Dropbox/master_personal/code_dh/scripts/harvard/courses/mighty-rl/algo/lstd.py(172)fit()\n",
      "-> A_hat = psi.T.dot(psi_delta)\n",
      "(Pdb) psi_delta.shape\n",
      "(17690, 3, 40)\n",
      "(Pdb) psi.shape\n",
      "(17690, 3, 40)\n",
      "(Pdb) psi.T.shape\n",
      "(40, 3, 17690)\n",
      "(Pdb) psi.T.dot(psi_delta)\n",
      "*** ValueError: shapes (40,3,17690) and (17690,3,40) not aligned: 17690 (dim 2) != 3 (dim 1)\n",
      "(Pdb) np.tensordot(psi, psi_delta)\n",
      "*** ValueError: shape-mismatch for sum\n",
      "(Pdb) np.tensordot(psi, psi_delta, axes=(1,2))\n",
      "*** ValueError: shape-mismatch for sum\n",
      "(Pdb) np.tensordot(psi, psi_delta, 2)\n",
      "*** ValueError: shape-mismatch for sum\n",
      "(Pdb) exit\n"
     ]
    },
    {
     "ename": "BdbQuit",
     "evalue": "",
     "output_type": "error",
     "traceback": [
      "\u001b[0;31m---------------------------------------------------------------------------\u001b[0m",
      "\u001b[0;31mBdbQuit\u001b[0m                                   Traceback (most recent call last)",
      "\u001b[0;32m<ipython-input-48-4a37dbd1d796>\u001b[0m in \u001b[0;36m<module>\u001b[0;34m()\u001b[0m\n\u001b[1;32m      6\u001b[0m \u001b[0;31m#lm_linear.fit(D=D_mat, pi=pi_eval)\u001b[0m\u001b[0;34m\u001b[0m\u001b[0;34m\u001b[0m\u001b[0m\n\u001b[1;32m      7\u001b[0m \u001b[0mlm_rbf\u001b[0m \u001b[0;34m=\u001b[0m \u001b[0mLSTDMu\u001b[0m\u001b[0;34m(\u001b[0m\u001b[0mp\u001b[0m\u001b[0;34m=\u001b[0m\u001b[0mp_rbf\u001b[0m\u001b[0;34m,\u001b[0m \u001b[0mq\u001b[0m\u001b[0;34m=\u001b[0m\u001b[0mq_rbf\u001b[0m\u001b[0;34m,\u001b[0m \u001b[0mphi\u001b[0m\u001b[0;34m=\u001b[0m\u001b[0mphi_rbf\u001b[0m\u001b[0;34m,\u001b[0m \u001b[0mpsi\u001b[0m\u001b[0;34m=\u001b[0m\u001b[0mpsi_rbf\u001b[0m\u001b[0;34m,\u001b[0m \u001b[0mgamma\u001b[0m\u001b[0;34m=\u001b[0m\u001b[0mgamma\u001b[0m\u001b[0;34m,\u001b[0m \u001b[0meps\u001b[0m\u001b[0;34m=\u001b[0m\u001b[0meps\u001b[0m\u001b[0;34m)\u001b[0m\u001b[0;34m\u001b[0m\u001b[0m\n\u001b[0;32m----> 8\u001b[0;31m \u001b[0mlm_rbf\u001b[0m\u001b[0;34m.\u001b[0m\u001b[0mfit\u001b[0m\u001b[0;34m(\u001b[0m\u001b[0mD\u001b[0m\u001b[0;34m=\u001b[0m\u001b[0mD_mat\u001b[0m\u001b[0;34m,\u001b[0m \u001b[0mpi\u001b[0m\u001b[0;34m=\u001b[0m\u001b[0mpi_eval\u001b[0m\u001b[0;34m)\u001b[0m\u001b[0;34m\u001b[0m\u001b[0m\n\u001b[0m",
      "\u001b[0;32m~/Dropbox/master_personal/code_dh/scripts/harvard/courses/mighty-rl/algo/lstd.py\u001b[0m in \u001b[0;36mfit\u001b[0;34m(self, D, pi)\u001b[0m\n\u001b[1;32m    170\u001b[0m         \u001b[0mpsi_delta\u001b[0m \u001b[0;34m=\u001b[0m \u001b[0mpsi\u001b[0m \u001b[0;34m-\u001b[0m \u001b[0mself\u001b[0m\u001b[0;34m.\u001b[0m\u001b[0m_gamma\u001b[0m \u001b[0;34m*\u001b[0m \u001b[0mpsi_next\u001b[0m\u001b[0;34m\u001b[0m\u001b[0m\n\u001b[1;32m    171\u001b[0m \u001b[0;34m\u001b[0m\u001b[0m\n\u001b[0;32m--> 172\u001b[0;31m         \u001b[0;31m# A_hat: q x q matrix\u001b[0m\u001b[0;34m\u001b[0m\u001b[0;34m\u001b[0m\u001b[0m\n\u001b[0m\u001b[1;32m    173\u001b[0m         \u001b[0;31m#A_hat = psi.T.dot(psi_delta)\u001b[0m\u001b[0;34m\u001b[0m\u001b[0;34m\u001b[0m\u001b[0m\n\u001b[1;32m    174\u001b[0m         \u001b[0mA_hat\u001b[0m \u001b[0;34m=\u001b[0m \u001b[0mnp\u001b[0m\u001b[0;34m.\u001b[0m\u001b[0meinsum\u001b[0m\u001b[0;34m(\u001b[0m\u001b[0;34m\"pij,jik->pk\"\u001b[0m\u001b[0;34m,\u001b[0m \u001b[0mpsi\u001b[0m\u001b[0;34m.\u001b[0m\u001b[0mT\u001b[0m\u001b[0;34m,\u001b[0m \u001b[0mpsi_delta\u001b[0m\u001b[0;34m)\u001b[0m\u001b[0;34m\u001b[0m\u001b[0m\n",
      "\u001b[0;32m~/Dropbox/master_personal/code_dh/scripts/harvard/courses/mighty-rl/algo/lstd.py\u001b[0m in \u001b[0;36mfit\u001b[0;34m(self, D, pi)\u001b[0m\n\u001b[1;32m    170\u001b[0m         \u001b[0mpsi_delta\u001b[0m \u001b[0;34m=\u001b[0m \u001b[0mpsi\u001b[0m \u001b[0;34m-\u001b[0m \u001b[0mself\u001b[0m\u001b[0;34m.\u001b[0m\u001b[0m_gamma\u001b[0m \u001b[0;34m*\u001b[0m \u001b[0mpsi_next\u001b[0m\u001b[0;34m\u001b[0m\u001b[0m\n\u001b[1;32m    171\u001b[0m \u001b[0;34m\u001b[0m\u001b[0m\n\u001b[0;32m--> 172\u001b[0;31m         \u001b[0;31m# A_hat: q x q matrix\u001b[0m\u001b[0;34m\u001b[0m\u001b[0;34m\u001b[0m\u001b[0m\n\u001b[0m\u001b[1;32m    173\u001b[0m         \u001b[0;31m#A_hat = psi.T.dot(psi_delta)\u001b[0m\u001b[0;34m\u001b[0m\u001b[0;34m\u001b[0m\u001b[0m\n\u001b[1;32m    174\u001b[0m         \u001b[0mA_hat\u001b[0m \u001b[0;34m=\u001b[0m \u001b[0mnp\u001b[0m\u001b[0;34m.\u001b[0m\u001b[0meinsum\u001b[0m\u001b[0;34m(\u001b[0m\u001b[0;34m\"pij,jik->pk\"\u001b[0m\u001b[0;34m,\u001b[0m \u001b[0mpsi\u001b[0m\u001b[0;34m.\u001b[0m\u001b[0mT\u001b[0m\u001b[0;34m,\u001b[0m \u001b[0mpsi_delta\u001b[0m\u001b[0;34m)\u001b[0m\u001b[0;34m\u001b[0m\u001b[0m\n",
      "\u001b[0;32m/usr/lib/python3.5/bdb.py\u001b[0m in \u001b[0;36mtrace_dispatch\u001b[0;34m(self, frame, event, arg)\u001b[0m\n\u001b[1;32m     46\u001b[0m             \u001b[0;32mreturn\u001b[0m \u001b[0;31m# None\u001b[0m\u001b[0;34m\u001b[0m\u001b[0m\n\u001b[1;32m     47\u001b[0m         \u001b[0;32mif\u001b[0m \u001b[0mevent\u001b[0m \u001b[0;34m==\u001b[0m \u001b[0;34m'line'\u001b[0m\u001b[0;34m:\u001b[0m\u001b[0;34m\u001b[0m\u001b[0m\n\u001b[0;32m---> 48\u001b[0;31m             \u001b[0;32mreturn\u001b[0m \u001b[0mself\u001b[0m\u001b[0;34m.\u001b[0m\u001b[0mdispatch_line\u001b[0m\u001b[0;34m(\u001b[0m\u001b[0mframe\u001b[0m\u001b[0;34m)\u001b[0m\u001b[0;34m\u001b[0m\u001b[0m\n\u001b[0m\u001b[1;32m     49\u001b[0m         \u001b[0;32mif\u001b[0m \u001b[0mevent\u001b[0m \u001b[0;34m==\u001b[0m \u001b[0;34m'call'\u001b[0m\u001b[0;34m:\u001b[0m\u001b[0;34m\u001b[0m\u001b[0m\n\u001b[1;32m     50\u001b[0m             \u001b[0;32mreturn\u001b[0m \u001b[0mself\u001b[0m\u001b[0;34m.\u001b[0m\u001b[0mdispatch_call\u001b[0m\u001b[0;34m(\u001b[0m\u001b[0mframe\u001b[0m\u001b[0;34m,\u001b[0m \u001b[0marg\u001b[0m\u001b[0;34m)\u001b[0m\u001b[0;34m\u001b[0m\u001b[0m\n",
      "\u001b[0;32m/usr/lib/python3.5/bdb.py\u001b[0m in \u001b[0;36mdispatch_line\u001b[0;34m(self, frame)\u001b[0m\n\u001b[1;32m     65\u001b[0m         \u001b[0;32mif\u001b[0m \u001b[0mself\u001b[0m\u001b[0;34m.\u001b[0m\u001b[0mstop_here\u001b[0m\u001b[0;34m(\u001b[0m\u001b[0mframe\u001b[0m\u001b[0;34m)\u001b[0m \u001b[0;32mor\u001b[0m \u001b[0mself\u001b[0m\u001b[0;34m.\u001b[0m\u001b[0mbreak_here\u001b[0m\u001b[0;34m(\u001b[0m\u001b[0mframe\u001b[0m\u001b[0;34m)\u001b[0m\u001b[0;34m:\u001b[0m\u001b[0;34m\u001b[0m\u001b[0m\n\u001b[1;32m     66\u001b[0m             \u001b[0mself\u001b[0m\u001b[0;34m.\u001b[0m\u001b[0muser_line\u001b[0m\u001b[0;34m(\u001b[0m\u001b[0mframe\u001b[0m\u001b[0;34m)\u001b[0m\u001b[0;34m\u001b[0m\u001b[0m\n\u001b[0;32m---> 67\u001b[0;31m             \u001b[0;32mif\u001b[0m \u001b[0mself\u001b[0m\u001b[0;34m.\u001b[0m\u001b[0mquitting\u001b[0m\u001b[0;34m:\u001b[0m \u001b[0;32mraise\u001b[0m \u001b[0mBdbQuit\u001b[0m\u001b[0;34m\u001b[0m\u001b[0m\n\u001b[0m\u001b[1;32m     68\u001b[0m         \u001b[0;32mreturn\u001b[0m \u001b[0mself\u001b[0m\u001b[0;34m.\u001b[0m\u001b[0mtrace_dispatch\u001b[0m\u001b[0;34m\u001b[0m\u001b[0m\n\u001b[1;32m     69\u001b[0m \u001b[0;34m\u001b[0m\u001b[0m\n",
      "\u001b[0;31mBdbQuit\u001b[0m: "
     ]
    }
   ],
   "source": [
    "# depends on basis function\n",
    "eps = 0.0000\n",
    "mu_lstd_linear = {}\n",
    "for s_init in s_init_list:\n",
    "    lm_linear = LSTDMu(p=p_linear, q=q_linear, phi=phi_linear, psi=psi_linear, gamma=gamma, eps=eps)\n",
    "    lm_linear.fit(D=D_mat, pi=pi_eval)\n",
    "    mu_lstd = lm_rbf.predict(s_init, pi_eval.choose_action(s_init))\n",
    "    mu_lstd_linear[s_init] = mu_lstd\n",
    "\n",
    "mu_lstd_linear"
   ]
  },
  {
   "cell_type": "markdown",
   "metadata": {},
   "source": [
    "## run mu_mc with rbf"
   ]
  },
  {
   "cell_type": "code",
   "execution_count": 62,
   "metadata": {},
   "outputs": [
    {
     "name": "stderr",
     "output_type": "stream",
     "text": [
      "INFO:root:estimating mu with 50 samples\n"
     ]
    }
   ],
   "source": [
    "# montecarlo roll outs\n",
    "sample_size_mc = 50\n",
    "\n",
    "# set of initial points to test for\n",
    "s_init_list = np.linspace(-0.6, -0.4, 20)\n",
    "mu_mc_rbf = {}\n",
    "for s_init in s_init_list:\n",
    "    mu_mc, epi_len = AL.estimate_mu(env=env,\n",
    "                            pi_eval=pi_eval,\n",
    "                            mu_sample_size=sample_size_mc,\n",
    "                            phi=phi_rbf,\n",
    "                            gamma=gamma,\n",
    "                            return_epi_len=True,\n",
    "                            s_init=s_init)\n",
    "    mu_mc_rbf[s_init] = mu_mc\n",
    "mu_mc_rbf"
   ]
  },
  {
   "cell_type": "markdown",
   "metadata": {},
   "source": [
    "## run_mu_lstd with rbf"
   ]
  },
  {
   "cell_type": "code",
   "execution_count": 48,
   "metadata": {},
   "outputs": [
    {
     "name": "stdout",
     "output_type": "stream",
     "text": [
      "> /home/dhfromkorea/Dropbox/master_personal/code_dh/scripts/harvard/courses/mighty-rl/algo/lstd.py(166)fit()\n",
      "-> psi = self._psi(s, a)\n",
      "(Pdb) l\n",
      "161  \t        A_hat += self._eps * np.identity(self._q)\n",
      "162  \t        b_hat = np.zeros((self._q, self._p))\n",
      "163  \t        import pdb;pdb.set_trace()\n",
      "164  \t\n",
      "165  \t        # perhaps can be done in one step?\n",
      "166  ->\t        psi = self._psi(s, a)\n",
      "167  \t        psi_next = self._psi(s_next, a_next)\n",
      "168  \t        psi_next[absorb.flatten(), :] = 0\n",
      "169  \t        psi_delta = psi - self._gamma * psi_next\n",
      "170  \t\n",
      "171  \t        # A_hat: q x q matrix\n",
      "(Pdb) n\n",
      "> /home/dhfromkorea/Dropbox/master_personal/code_dh/scripts/harvard/courses/mighty-rl/algo/lstd.py(167)fit()\n",
      "-> psi_next = self._psi(s_next, a_next)\n",
      "(Pdb) n\n",
      "> /home/dhfromkorea/Dropbox/master_personal/code_dh/scripts/harvard/courses/mighty-rl/algo/lstd.py(168)fit()\n",
      "-> psi_next[absorb.flatten(), :] = 0\n",
      "(Pdb) psi.shape\n",
      "(17690, 3, 40)\n",
      "(Pdb) psi_next.shape\n",
      "(17690, 3, 40)\n",
      "(Pdb) l\n",
      "163  \t        import pdb;pdb.set_trace()\n",
      "164  \t\n",
      "165  \t        # perhaps can be done in one step?\n",
      "166  \t        psi = self._psi(s, a)\n",
      "167  \t        psi_next = self._psi(s_next, a_next)\n",
      "168  ->\t        psi_next[absorb.flatten(), :] = 0\n",
      "169  \t        psi_delta = psi - self._gamma * psi_next\n",
      "170  \t\n",
      "171  \t        # A_hat: q x q matrix\n",
      "172  \t        A_hat = psi.T.dot(psi_delta)\n",
      "173  \t        # b_hat: q x p matrix\n",
      "(Pdb) n\n",
      "> /home/dhfromkorea/Dropbox/master_personal/code_dh/scripts/harvard/courses/mighty-rl/algo/lstd.py(169)fit()\n",
      "-> psi_delta = psi - self._gamma * psi_next\n",
      "(Pdb) psi_next.shape\n",
      "(17690, 3, 40)\n",
      "(Pdb) psi_next\n",
      "array([[[ 0.31377684,  0.3067503 , -0.00661512, ..., -0.31041295,\n",
      "          0.00811186, -0.07949564],\n",
      "        [ 0.        ,  0.        ,  0.        , ...,  0.        ,\n",
      "          0.        ,  0.        ],\n",
      "        [ 0.        ,  0.        ,  0.        , ...,  0.        ,\n",
      "          0.        ,  0.        ]],\n",
      "\n",
      "       [[ 0.31246429,  0.30591926, -0.01025837, ..., -0.31607483,\n",
      "          0.01741464, -0.11428812],\n",
      "        [ 0.        ,  0.        ,  0.        , ...,  0.        ,\n",
      "          0.        ,  0.        ],\n",
      "        [ 0.        ,  0.        ,  0.        , ...,  0.        ,\n",
      "          0.        ,  0.        ]],\n",
      "\n",
      "       [[ 0.31429914,  0.30700015, -0.00589965, ..., -0.30147864,\n",
      "          0.01371838, -0.06408207],\n",
      "        [ 0.        ,  0.        ,  0.        , ...,  0.        ,\n",
      "          0.        ,  0.        ],\n",
      "        [ 0.        ,  0.        ,  0.        , ...,  0.        ,\n",
      "          0.        ,  0.        ]],\n",
      "\n",
      "       ...,\n",
      "\n",
      "       [[ 0.        ,  0.        ,  0.        , ...,  0.        ,\n",
      "          0.        ,  0.        ],\n",
      "        [ 0.        ,  0.        ,  0.        , ...,  0.        ,\n",
      "          0.        ,  0.        ],\n",
      "        [-0.30744019,  0.28768776,  0.11897253, ..., -0.30863257,\n",
      "          0.17508429, -0.15249745]],\n",
      "\n",
      "       [[ 0.        ,  0.        ,  0.        , ...,  0.        ,\n",
      "          0.        ,  0.        ],\n",
      "        [ 0.        ,  0.        ,  0.        , ...,  0.        ,\n",
      "          0.        ,  0.        ],\n",
      "        [-0.31117828,  0.29051101,  0.13515662, ..., -0.2865484 ,\n",
      "         -0.04232021, -0.12083726]],\n",
      "\n",
      "       [[ 0.        ,  0.        ,  0.        , ...,  0.        ,\n",
      "          0.        ,  0.        ],\n",
      "        [ 0.        ,  0.        ,  0.        , ...,  0.        ,\n",
      "          0.        ,  0.        ],\n",
      "        [ 0.        ,  0.        ,  0.        , ...,  0.        ,\n",
      "          0.        ,  0.        ]]])\n",
      "(Pdb) n\n",
      "> /home/dhfromkorea/Dropbox/master_personal/code_dh/scripts/harvard/courses/mighty-rl/algo/lstd.py(172)fit()\n",
      "-> A_hat = psi.T.dot(psi_delta)\n",
      "(Pdb) psi_delta.shape\n",
      "(17690, 3, 40)\n",
      "(Pdb) psi.shape\n",
      "(17690, 3, 40)\n",
      "(Pdb) psi.T.shape\n",
      "(40, 3, 17690)\n",
      "(Pdb) psi.T.dot(psi_delta)\n",
      "*** ValueError: shapes (40,3,17690) and (17690,3,40) not aligned: 17690 (dim 2) != 3 (dim 1)\n",
      "(Pdb) np.tensordot(psi, psi_delta)\n",
      "*** ValueError: shape-mismatch for sum\n",
      "(Pdb) np.tensordot(psi, psi_delta, axes=(1,2))\n",
      "*** ValueError: shape-mismatch for sum\n",
      "(Pdb) np.tensordot(psi, psi_delta, 2)\n",
      "*** ValueError: shape-mismatch for sum\n",
      "(Pdb) exit\n"
     ]
    },
    {
     "ename": "BdbQuit",
     "evalue": "",
     "output_type": "error",
     "traceback": [
      "\u001b[0;31m---------------------------------------------------------------------------\u001b[0m",
      "\u001b[0;31mBdbQuit\u001b[0m                                   Traceback (most recent call last)",
      "\u001b[0;32m<ipython-input-48-4a37dbd1d796>\u001b[0m in \u001b[0;36m<module>\u001b[0;34m()\u001b[0m\n\u001b[1;32m      6\u001b[0m \u001b[0;31m#lm_linear.fit(D=D_mat, pi=pi_eval)\u001b[0m\u001b[0;34m\u001b[0m\u001b[0;34m\u001b[0m\u001b[0m\n\u001b[1;32m      7\u001b[0m \u001b[0mlm_rbf\u001b[0m \u001b[0;34m=\u001b[0m \u001b[0mLSTDMu\u001b[0m\u001b[0;34m(\u001b[0m\u001b[0mp\u001b[0m\u001b[0;34m=\u001b[0m\u001b[0mp_rbf\u001b[0m\u001b[0;34m,\u001b[0m \u001b[0mq\u001b[0m\u001b[0;34m=\u001b[0m\u001b[0mq_rbf\u001b[0m\u001b[0;34m,\u001b[0m \u001b[0mphi\u001b[0m\u001b[0;34m=\u001b[0m\u001b[0mphi_rbf\u001b[0m\u001b[0;34m,\u001b[0m \u001b[0mpsi\u001b[0m\u001b[0;34m=\u001b[0m\u001b[0mpsi_rbf\u001b[0m\u001b[0;34m,\u001b[0m \u001b[0mgamma\u001b[0m\u001b[0;34m=\u001b[0m\u001b[0mgamma\u001b[0m\u001b[0;34m,\u001b[0m \u001b[0meps\u001b[0m\u001b[0;34m=\u001b[0m\u001b[0meps\u001b[0m\u001b[0;34m)\u001b[0m\u001b[0;34m\u001b[0m\u001b[0m\n\u001b[0;32m----> 8\u001b[0;31m \u001b[0mlm_rbf\u001b[0m\u001b[0;34m.\u001b[0m\u001b[0mfit\u001b[0m\u001b[0;34m(\u001b[0m\u001b[0mD\u001b[0m\u001b[0;34m=\u001b[0m\u001b[0mD_mat\u001b[0m\u001b[0;34m,\u001b[0m \u001b[0mpi\u001b[0m\u001b[0;34m=\u001b[0m\u001b[0mpi_eval\u001b[0m\u001b[0;34m)\u001b[0m\u001b[0;34m\u001b[0m\u001b[0m\n\u001b[0m",
      "\u001b[0;32m~/Dropbox/master_personal/code_dh/scripts/harvard/courses/mighty-rl/algo/lstd.py\u001b[0m in \u001b[0;36mfit\u001b[0;34m(self, D, pi)\u001b[0m\n\u001b[1;32m    170\u001b[0m         \u001b[0mpsi_delta\u001b[0m \u001b[0;34m=\u001b[0m \u001b[0mpsi\u001b[0m \u001b[0;34m-\u001b[0m \u001b[0mself\u001b[0m\u001b[0;34m.\u001b[0m\u001b[0m_gamma\u001b[0m \u001b[0;34m*\u001b[0m \u001b[0mpsi_next\u001b[0m\u001b[0;34m\u001b[0m\u001b[0m\n\u001b[1;32m    171\u001b[0m \u001b[0;34m\u001b[0m\u001b[0m\n\u001b[0;32m--> 172\u001b[0;31m         \u001b[0;31m# A_hat: q x q matrix\u001b[0m\u001b[0;34m\u001b[0m\u001b[0;34m\u001b[0m\u001b[0m\n\u001b[0m\u001b[1;32m    173\u001b[0m         \u001b[0;31m#A_hat = psi.T.dot(psi_delta)\u001b[0m\u001b[0;34m\u001b[0m\u001b[0;34m\u001b[0m\u001b[0m\n\u001b[1;32m    174\u001b[0m         \u001b[0mA_hat\u001b[0m \u001b[0;34m=\u001b[0m \u001b[0mnp\u001b[0m\u001b[0;34m.\u001b[0m\u001b[0meinsum\u001b[0m\u001b[0;34m(\u001b[0m\u001b[0;34m\"pij,jik->pk\"\u001b[0m\u001b[0;34m,\u001b[0m \u001b[0mpsi\u001b[0m\u001b[0;34m.\u001b[0m\u001b[0mT\u001b[0m\u001b[0;34m,\u001b[0m \u001b[0mpsi_delta\u001b[0m\u001b[0;34m)\u001b[0m\u001b[0;34m\u001b[0m\u001b[0m\n",
      "\u001b[0;32m~/Dropbox/master_personal/code_dh/scripts/harvard/courses/mighty-rl/algo/lstd.py\u001b[0m in \u001b[0;36mfit\u001b[0;34m(self, D, pi)\u001b[0m\n\u001b[1;32m    170\u001b[0m         \u001b[0mpsi_delta\u001b[0m \u001b[0;34m=\u001b[0m \u001b[0mpsi\u001b[0m \u001b[0;34m-\u001b[0m \u001b[0mself\u001b[0m\u001b[0;34m.\u001b[0m\u001b[0m_gamma\u001b[0m \u001b[0;34m*\u001b[0m \u001b[0mpsi_next\u001b[0m\u001b[0;34m\u001b[0m\u001b[0m\n\u001b[1;32m    171\u001b[0m \u001b[0;34m\u001b[0m\u001b[0m\n\u001b[0;32m--> 172\u001b[0;31m         \u001b[0;31m# A_hat: q x q matrix\u001b[0m\u001b[0;34m\u001b[0m\u001b[0;34m\u001b[0m\u001b[0m\n\u001b[0m\u001b[1;32m    173\u001b[0m         \u001b[0;31m#A_hat = psi.T.dot(psi_delta)\u001b[0m\u001b[0;34m\u001b[0m\u001b[0;34m\u001b[0m\u001b[0m\n\u001b[1;32m    174\u001b[0m         \u001b[0mA_hat\u001b[0m \u001b[0;34m=\u001b[0m \u001b[0mnp\u001b[0m\u001b[0;34m.\u001b[0m\u001b[0meinsum\u001b[0m\u001b[0;34m(\u001b[0m\u001b[0;34m\"pij,jik->pk\"\u001b[0m\u001b[0;34m,\u001b[0m \u001b[0mpsi\u001b[0m\u001b[0;34m.\u001b[0m\u001b[0mT\u001b[0m\u001b[0;34m,\u001b[0m \u001b[0mpsi_delta\u001b[0m\u001b[0;34m)\u001b[0m\u001b[0;34m\u001b[0m\u001b[0m\n",
      "\u001b[0;32m/usr/lib/python3.5/bdb.py\u001b[0m in \u001b[0;36mtrace_dispatch\u001b[0;34m(self, frame, event, arg)\u001b[0m\n\u001b[1;32m     46\u001b[0m             \u001b[0;32mreturn\u001b[0m \u001b[0;31m# None\u001b[0m\u001b[0;34m\u001b[0m\u001b[0m\n\u001b[1;32m     47\u001b[0m         \u001b[0;32mif\u001b[0m \u001b[0mevent\u001b[0m \u001b[0;34m==\u001b[0m \u001b[0;34m'line'\u001b[0m\u001b[0;34m:\u001b[0m\u001b[0;34m\u001b[0m\u001b[0m\n\u001b[0;32m---> 48\u001b[0;31m             \u001b[0;32mreturn\u001b[0m \u001b[0mself\u001b[0m\u001b[0;34m.\u001b[0m\u001b[0mdispatch_line\u001b[0m\u001b[0;34m(\u001b[0m\u001b[0mframe\u001b[0m\u001b[0;34m)\u001b[0m\u001b[0;34m\u001b[0m\u001b[0m\n\u001b[0m\u001b[1;32m     49\u001b[0m         \u001b[0;32mif\u001b[0m \u001b[0mevent\u001b[0m \u001b[0;34m==\u001b[0m \u001b[0;34m'call'\u001b[0m\u001b[0;34m:\u001b[0m\u001b[0;34m\u001b[0m\u001b[0m\n\u001b[1;32m     50\u001b[0m             \u001b[0;32mreturn\u001b[0m \u001b[0mself\u001b[0m\u001b[0;34m.\u001b[0m\u001b[0mdispatch_call\u001b[0m\u001b[0;34m(\u001b[0m\u001b[0mframe\u001b[0m\u001b[0;34m,\u001b[0m \u001b[0marg\u001b[0m\u001b[0;34m)\u001b[0m\u001b[0;34m\u001b[0m\u001b[0m\n",
      "\u001b[0;32m/usr/lib/python3.5/bdb.py\u001b[0m in \u001b[0;36mdispatch_line\u001b[0;34m(self, frame)\u001b[0m\n\u001b[1;32m     65\u001b[0m         \u001b[0;32mif\u001b[0m \u001b[0mself\u001b[0m\u001b[0;34m.\u001b[0m\u001b[0mstop_here\u001b[0m\u001b[0;34m(\u001b[0m\u001b[0mframe\u001b[0m\u001b[0;34m)\u001b[0m \u001b[0;32mor\u001b[0m \u001b[0mself\u001b[0m\u001b[0;34m.\u001b[0m\u001b[0mbreak_here\u001b[0m\u001b[0;34m(\u001b[0m\u001b[0mframe\u001b[0m\u001b[0;34m)\u001b[0m\u001b[0;34m:\u001b[0m\u001b[0;34m\u001b[0m\u001b[0m\n\u001b[1;32m     66\u001b[0m             \u001b[0mself\u001b[0m\u001b[0;34m.\u001b[0m\u001b[0muser_line\u001b[0m\u001b[0;34m(\u001b[0m\u001b[0mframe\u001b[0m\u001b[0;34m)\u001b[0m\u001b[0;34m\u001b[0m\u001b[0m\n\u001b[0;32m---> 67\u001b[0;31m             \u001b[0;32mif\u001b[0m \u001b[0mself\u001b[0m\u001b[0;34m.\u001b[0m\u001b[0mquitting\u001b[0m\u001b[0;34m:\u001b[0m \u001b[0;32mraise\u001b[0m \u001b[0mBdbQuit\u001b[0m\u001b[0;34m\u001b[0m\u001b[0m\n\u001b[0m\u001b[1;32m     68\u001b[0m         \u001b[0;32mreturn\u001b[0m \u001b[0mself\u001b[0m\u001b[0;34m.\u001b[0m\u001b[0mtrace_dispatch\u001b[0m\u001b[0;34m\u001b[0m\u001b[0m\n\u001b[1;32m     69\u001b[0m \u001b[0;34m\u001b[0m\u001b[0m\n",
      "\u001b[0;31mBdbQuit\u001b[0m: "
     ]
    }
   ],
   "source": [
    "# depends on basis function\n",
    "eps = 0.0000\n",
    "mu_lstd_rbf = {}\n",
    "for s_init in s_init_list:\n",
    "    lm_rbf = LSTDMu(p=p_rbf, q=q_rbf, phi=phi_rbf, psi=psi_rbf, gamma=gamma, eps=eps)\n",
    "    lm_lrbf.fit(D=D_mat, pi=pi_eval)\n",
    "    mu_lstd = lm_rbf.predict(s_init, pi_eval.choose_action(s_init))\n",
    "    mu_lstd_rbf[s_init] = mu_lstd\n",
    "\n",
    "mu_lstd_rbf"
   ]
  },
  {
   "cell_type": "code",
   "execution_count": null,
   "metadata": {},
   "outputs": [],
   "source": [
    "def compare_mc_lstd(s_init_list, mu_mc_linear, mu_lstd_linear, mu_mc_rbf, mu_lstd_rbf):\n",
    "    dist_list_linear = []\n",
    "    dist_list_rbf = []\n",
    "    for s_init in s_init_list:\n",
    "        dist = np.linalg.norm(mu_mc_linear[s_init] - mu_lstd_linear[s_init], 2)\n",
    "        dist_list_linear.append(dist)\n",
    "        dist = np.linalg.norm(mu_mc_rbf[s_init] - mu_lstd_rbf[s_init], 2)\n",
    "        dist_list_rbf.append(dist)\n",
    "\n",
    "    ax = plt.gca()\n",
    "    ax.plot(s_init, dis_list_linear, label=\"linear l2 norm\")\n",
    "    ax.plot(s_init, dist_list_rbf, label=\"rbf l2 norm\")\n",
    "    ax.legend()\n",
    "    plt.show()\n",
    "    \n",
    "compare_mc_lstd(s_init_list, mu_mc_linear, mu_lstd_linear, mu_mc_rbf, mu_lstd_rbf)"
   ]
  },
  {
   "cell_type": "markdown",
   "metadata": {},
   "source": [
    "## Visualize Monte Carlo $\\mu$ of evaluation policy"
   ]
  },
  {
   "cell_type": "code",
   "execution_count": null,
   "metadata": {},
   "outputs": [],
   "source": [
    "tsne = manifold.TSNE(n_components=2, init='pca', random_state=0)\n",
    "trans_data = tsne.fit_transform(mus_mc_rbf).T"
   ]
  },
  {
   "cell_type": "code",
   "execution_count": null,
   "metadata": {},
   "outputs": [],
   "source": [
    "fig, (ax1, ax2) = plt.subplots(1, 2, figsize=(20, 7))\n",
    "plt.suptitle('Monte Carlo Estimates')\n",
    "\n",
    "ax1.scatter(mus_mc_linear[:, 0], mus_mc_linear[:, 1])\n",
    "ax1.set_ylim(-0.02, 0.02)\n",
    "ax1.set_xlabel('Position')\n",
    "ax1.set_ylabel('Velocity')\n",
    "\n",
    "# c= ..\n",
    "ss = ax2.scatter(trans_data[0], trans_data[1])\n",
    "ax2.set_title(\"t-SNE of mu_expert_stochastic\")\n",
    "ax2.axis('tight')\n",
    "#fig.colorbar(ss, ax=ax2)\n",
    "plt.show()\n",
    "                 \n",
    "# u_hat= 1/n sum_{i=1}^n (u_i)\n",
    "# E[u_hat] = u\n",
    "                "
   ]
  },
  {
   "cell_type": "markdown",
   "metadata": {},
   "source": [
    "## LSTD-mu estimation of evaluation policy\n",
    "- with linear basis\n",
    "- with rbf basis"
   ]
  },
  {
   "cell_type": "code",
   "execution_count": null,
   "metadata": {},
   "outputs": [],
   "source": [
    "#pp(np.mean(mus, axis=0))\n",
    "mus_lstd_linear = []\n",
    "mus_lstd_rbf = []\n",
    "\n",
    "for s0 in ss_init:\n",
    "    # linear\n",
    "    mu = lm_linear.predict(s0, pi5.choose_action(s0))\n",
    "    mus_lstd_linear.append(mu)\n",
    "    # rbf\n",
    "    mu_rbf = lm_rbf.predict(s0, pi5.choose_action(s0))\n",
    "    mus_lstd_rbf.append(mu)\n",
    "\n",
    "mus_lstd_linear = np.array(mus_lstd_linear).squeeze()\n",
    "mus_lstd_rbf = np.array(mus_lstd_rbf).squeeze()\n"
   ]
  },
  {
   "cell_type": "code",
   "execution_count": null,
   "metadata": {},
   "outputs": [],
   "source": [
    "fig, (ax1, ax2) = plt.subplots(1, 2, figsize=(20, 7))\n",
    "plt.suptitle('Distribution of mu expert')\n",
    "\n",
    "ax1.scatter(mus_lstd_linear[:, 0], mus_lstd_linear[:, 1])\n",
    "#ax1.set_ylim(-0.02, 0.02)\n",
    "ax1.set_xlabel('Position')\n",
    "ax1.set_ylabel('Velocity')\n",
    "\n",
    "tsne = manifold.TSNE(n_components=2, init='pca', random_state=0)\n",
    "trans_data = tsne.fit_transform(mus_lstd_rbf).T\n",
    "\n",
    "ss = ax2.scatter(trans_data[0], trans_data[1], cmap='Reds')\n",
    "ax2.set_title(\"t-SNE of mu_expert_stochastic\")\n",
    "ax2.axis('tight')\n",
    "#fig.colorbar(ss, ax=[ax1, ax2])\n",
    "plt.show()"
   ]
  },
  {
   "cell_type": "markdown",
   "metadata": {},
   "source": [
    "## apply apprenticeship learning"
   ]
  },
  {
   "cell_type": "code",
   "execution_count": null,
   "metadata": {},
   "outputs": [],
   "source": [
    "## value margin"
   ]
  },
  {
   "cell_type": "code",
   "execution_count": null,
   "metadata": {},
   "outputs": [],
   "source": [
    "results = np.load(\"data/res_1522884923.4368284\")\n",
    "pi_irl_list = results['solutions']\n",
    "D_irl = sim.simulate(pi_irl_list[0], n_trial=1, n_episode=50)"
   ]
  },
  {
   "cell_type": "code",
   "execution_count": null,
   "metadata": {},
   "outputs": [],
   "source": [
    "pi_irl_list[0]._phi([0.5, 0.2], 1)"
   ]
  },
  {
   "cell_type": "code",
   "execution_count": null,
   "metadata": {},
   "outputs": [],
   "source": [
    "sns.set(style='white', palette='Blues')\n",
    "\n",
    "fig = plt.figure(figsize=(10, 10))\n",
    "plt.xticks(fontsize=15.0)\n",
    "plt.yticks(fontsize=15.0)\n",
    "\n",
    "ax = plt.gca()\n",
    "lines = [[(-0.4, 0.0), (-0.6, 0.0)]]\n",
    "c = np.array([(1, 0, 0, 1)])\n",
    "lc = mc.LineCollection(lines, colors='red', linewidths=5)\n",
    "ax.add_collection(lc)\n",
    "for episode in D_irl:\n",
    "    states = []\n",
    "    for (s, a, r, s_next, done) in episode:\n",
    "        states.append(s)\n",
    "    states = np.array(states)\n",
    "    sc = ax.scatter(states[:,0], states[:,1], c=range(len(states[:,0])), cmap=plt.get_cmap(\"YlOrRd\"), s=7.0)\n",
    "#ax.axis([-1.2,0.6,-0.07,0.07])\n",
    "ax.axvline(0.5, c='blue', linewidth=5)\n",
    "ax.set_xlabel('Position', fontsize=20.0)\n",
    "ax.set_ylabel('Velocity', fontsize=20.0)\n",
    "#plt.colorbar(sc)\n",
    "plt.show()\n"
   ]
  },
  {
   "cell_type": "code",
   "execution_count": null,
   "metadata": {},
   "outputs": [],
   "source": [
    "from matplotlib import collections  as mc\n",
    "\n",
    "sns.set(style='white', palette='Blues')\n",
    "\n",
    "fig, axes = plt.subplots(1, 2, figsize=(20, 10))\n",
    "plt.xticks(fontsize=15.0)\n",
    "plt.yticks(fontsize=15.0)\n",
    "\n",
    "titles = [\"Near-expert policy trajectories\", \"IRL poilcy trajectories\"]\n",
    "for title, ax, trajs_irl in zip(titles, axes, [trajs_expert_near, D_irl]):\n",
    "    lines = [[(-0.4, 0.0), (-0.6, 0.0)]]\n",
    "    c = np.array([(1, 0, 0, 1)])\n",
    "    lc = mc.LineCollection(lines, colors='red', linewidths=5)\n",
    "    ax.set_title(title, fontsize=20.0)\n",
    "\n",
    "    ax.add_collection(lc)\n",
    "    for episode in trajs_irl:\n",
    "        states = []\n",
    "        try:\n",
    "            for s, a, r, s_next, done in episode:\n",
    "                states.append(s)\n",
    "        except:\n",
    "            import pdb;pdb.set_trace()\n",
    "        states = np.array(states)\n",
    "        sc = ax.scatter(states[:,0], states[:,1], c=range(len(states[:,0])), cmap=plt.get_cmap(\"YlOrRd\"), s=7.0)\n",
    "    #ax.axis([-1.2,0.6,-0.07,0.07])\n",
    "    ax.axvline(0.5, c='blue', linewidth=5)\n",
    "    ax.set_xlabel('Position', fontsize=20.0)\n",
    "    ax.set_ylabel('Velocity', fontsize=20.0)\n",
    "    #plt.colorbar(sc)\n",
    "plt.show()\n"
   ]
  },
  {
   "cell_type": "code",
   "execution_count": null,
   "metadata": {},
   "outputs": [],
   "source": [
    "margin_v_collection = results['margin_v']\n",
    "margin_mu_collection = results['margin_mu']\n",
    "mu_collection = results['mu']"
   ]
  },
  {
   "cell_type": "code",
   "execution_count": null,
   "metadata": {},
   "outputs": [],
   "source": [
    "ax = plt.gca()\n",
    "print('e')\n",
    "for mu_list in mu_collection:\n",
    "    mu_list = np.array(mu_list)\n",
    "    #ax.scatter(mu_list[:, 0], mu_list[:, 1], c = range(len(mu_list[:,1])), cmap=plt.get_cmap(\"YlOrRd\"))\n",
    "\n",
    "mu_exp_list = np.array(estimate_mu_mc(env, pi_expert_near, phi_linear, gamma, 1000))\n",
    "mu_exp = mu_exp_list.mean(axis=0)\n",
    "ax.scatter(mu_exp[0], mu_exp[1], c='b')"
   ]
  },
  {
   "cell_type": "code",
   "execution_count": null,
   "metadata": {},
   "outputs": [],
   "source": [
    "print(mu_exp_list.mean(axis=0).shape)\n",
    "print(mu_exp_list.mean(axis=1)[1])"
   ]
  },
  {
   "cell_type": "code",
   "execution_count": null,
   "metadata": {},
   "outputs": [],
   "source": [
    "from scipy.stats import sem\n",
    "D_v = np.array(margin_v_collection)\n",
    "mu_hat = np.mean(D_v, axis=0)\n",
    "s = sem(D_v, axis=0)\n",
    "ax = plt.gca()\n",
    "ax.errorbar(np.arange(D_v.shape[1]), mu_hat, yerr=s, fmt=\"--o\", c='g')\n",
    "ax.set_title('value margin')\n",
    "plt.show()"
   ]
  },
  {
   "cell_type": "code",
   "execution_count": null,
   "metadata": {},
   "outputs": [],
   "source": [
    "from scipy.stats import sem\n",
    "D_mu = np.array(margin_mu_collection)\n",
    "mu_hat = np.mean(D_mu, axis=0)\n",
    "s = sem(D_mu, axis=0)\n",
    "ax = plt.gca()\n",
    "ax.set_title('feature expectation margin')\n",
    "ax.errorbar(np.arange(D_mu.shape[1]), mu_hat, yerr=s, fmt=\"--o\", c='b')\n",
    "plt.show()"
   ]
  },
  {
   "cell_type": "code",
   "execution_count": null,
   "metadata": {},
   "outputs": [],
   "source": [
    "import pickle\n",
    "from time import time\n",
    "with open(\"data/res_{}.pkl\".format(time()), \"wb\") as f:\n",
    "    pickle.dump({'name': 'james'}, f, protocol=pickle.HIGHEST_PROTOCOL)\n"
   ]
  },
  {
   "cell_type": "markdown",
   "metadata": {},
   "source": [
    "## what's done\n",
    "- batch-mode, continuous-state apprenticeship learning implemented\n",
    "- increase gamma (check the sensitivity to gamma) eps = gamma^n\n",
    "- check for (Q(s_terminal, a) or v(s_terminal) makes sense compared to V_mc)\n",
    "- remove batch setting and see if it works\n",
    "\n",
    "\n",
    "## problem\n",
    "- [v] value margin converges\n",
    "- [v] feature expecatation margin converges\n",
    "- [v] LSPI converges\n",
    "- [ ] the IRL policy does not match expert policy at all (though the expert policy should be uniquely optimal)\n",
    "\n",
    "## moving pieces (potential culprits)\n",
    "- batch: D (not enough samples, not diverse enough?, the same D can be used for lstd_mu and lspi?)\n",
    "- reward function is not rich enough? (use basis function)\n",
    "- mu estimator: lstd_mu is not working? (need to check more thoroughly)\n",
    "- MDP solver: lspi is not working? (possibly related to the quality of D, according to the paper, why don't we try use dqn solver?)\n",
    "- expert policy is not optimal (1. use slack term, 2. use optimal policy (dqn) )\n",
    "- hyperparameters are wrong?\n",
    "- upon-goal reward is not strong? (there's no huge bonus. it's -1 everywhere.)\n",
    "- obvious bug in value, mu margin\n",
    "\n",
    "\n",
    "## next step\n",
    "- check apprenticeship learning works without batch-mode? (with MC simulation, we can reason in isolation)\n",
    "- separately test each moving piece (LSPI, lstd-mu)\n",
    "- use slack term to see if suboptimality is the culprit.\n",
    "- batchmode maximum margin planning is trivial to add\n",
    "- need to integrate with sespsis (before the codebase diverges)\n",
    "- speedup: lspi, lstd -> do in batch at once\n",
    "- speedup: parallized trials and montecarlo simulation\n",
    "- find existing implementation (thorough comparison one-by-one)"
   ]
  },
  {
   "cell_type": "code",
   "execution_count": null,
   "metadata": {},
   "outputs": [],
   "source": []
  },
  {
   "cell_type": "code",
   "execution_count": null,
   "metadata": {},
   "outputs": [],
   "source": []
  },
  {
   "cell_type": "code",
   "execution_count": null,
   "metadata": {},
   "outputs": [],
   "source": []
  }
 ],
 "metadata": {
  "kernelspec": {
   "display_name": "py35",
   "language": "python",
   "name": "py35"
  },
  "language_info": {
   "codemirror_mode": {
    "name": "ipython",
    "version": 3
   },
   "file_extension": ".py",
   "mimetype": "text/x-python",
   "name": "python",
   "nbconvert_exporter": "python",
   "pygments_lexer": "ipython3",
   "version": "3.5.2"
  }
 },
 "nbformat": 4,
 "nbformat_minor": 2
}
