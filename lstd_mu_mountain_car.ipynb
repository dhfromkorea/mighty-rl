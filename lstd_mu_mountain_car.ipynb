{
 "cells": [
  {
   "cell_type": "code",
   "execution_count": 1,
   "metadata": {},
   "outputs": [],
   "source": [
    "%load_ext autoreload\n",
    "%autoreload 2"
   ]
  },
  {
   "cell_type": "code",
   "execution_count": 2,
   "metadata": {},
   "outputs": [],
   "source": [
    "import numpy as np\n",
    "import matplotlib.pyplot as plt\n",
    "from pprint import pprint as pp\n",
    "import gym\n",
    "\n",
    "from lstd import LSTDQ, LSTDMu, LSPI\n",
    "from simulator import Simulator\n",
    "from policy import *\n",
    "import sklearn.pipeline\n",
    "import sklearn.preprocessing\n",
    "from sklearn.kernel_approximation import RBFSampler\n",
    "import seaborn as sns\n",
    "from sklearn import manifold, datasets\n",
    "from sklearn.utils import check_random_state"
   ]
  },
  {
   "cell_type": "code",
   "execution_count": 3,
   "metadata": {},
   "outputs": [],
   "source": [
    "# hypyerparams\n",
    "gamma= 0.75\n",
    "s0 = [-0.5, -0.05]"
   ]
  },
  {
   "cell_type": "code",
   "execution_count": 4,
   "metadata": {},
   "outputs": [
    {
     "name": "stdout",
     "output_type": "stream",
     "text": [
      "\u001b[33mWARN: gym.spaces.Box autodetected dtype as <class 'numpy.float32'>. Please provide explicit dtype.\u001b[0m\n"
     ]
    }
   ],
   "source": [
    "env = gym.envs.make(\"MountainCar-v0\")"
   ]
  },
  {
   "cell_type": "code",
   "execution_count": 5,
   "metadata": {},
   "outputs": [
    {
     "name": "stdout",
     "output_type": "stream",
     "text": [
      "array([-0.2121357 ,  0.03012651], dtype=float32)\n",
      "1\n"
     ]
    }
   ],
   "source": [
    "pp(env.observation_space.sample())\n",
    "pp(env.action_space.sample())"
   ]
  },
  {
   "cell_type": "markdown",
   "metadata": {},
   "source": [
    "## build basis functions\n",
    "- linear (3d: pos, velo, action)\n",
    "- RBFwith 400 components with varying gammas"
   ]
  },
  {
   "cell_type": "code",
   "execution_count": 6,
   "metadata": {},
   "outputs": [
    {
     "name": "stdout",
     "output_type": "stream",
     "text": [
      "(10000, 3)\n"
     ]
    }
   ],
   "source": [
    "def get_phi(scaler):\n",
    "    # Used to converte a state to a featurizes represenation.\n",
    "    # We use RBF kernels with different variances to cover different parts of the space\n",
    "    phi = sklearn.pipeline.FeatureUnion([\n",
    "            (\"rbf1\", RBFSampler(gamma=5.0, n_components=100)),\n",
    "            (\"rbf2\", RBFSampler(gamma=2.0, n_components=100)),\n",
    "            (\"rbf3\", RBFSampler(gamma=1.0, n_components=100)),\n",
    "            (\"rbf4\", RBFSampler(gamma=0.5, n_components=100))\n",
    "            ])\n",
    "    phi.fit(scaler.transform(xs))\n",
    "    \n",
    "    def f(s, a):\n",
    "        sa = np.hstack((s, a))\n",
    "        if len(sa.shape) == 1:\n",
    "            sa = np.expand_dims(sa, axis=0)\n",
    "        x = scaler.transform(sa)\n",
    "        return phi.transform(x).T\n",
    "    \n",
    "    return f\n",
    "\n",
    "def get_psi(scaler):\n",
    "    # Used to converte a state to a featurizes represenation.\n",
    "    # We use RBF kernels with different variances to cover different parts of the space\n",
    "    psi = sklearn.pipeline.FeatureUnion([\n",
    "            (\"rbf1\", RBFSampler(gamma=5.0, n_components=100)),\n",
    "            (\"rbf2\", RBFSampler(gamma=2.0, n_components=100)),\n",
    "            (\"rbf3\", RBFSampler(gamma=1.0, n_components=100)),\n",
    "            (\"rbf4\", RBFSampler(gamma=0.5, n_components=100))\n",
    "            ])\n",
    "    psi.fit(scaler.transform(xs))\n",
    "    \n",
    "    def f(s, a):\n",
    "        sa = np.hstack((s, a))\n",
    "        if len(sa.shape) == 1:\n",
    "            sa = np.expand_dims(sa, axis=0)\n",
    "        x = scaler.transform(sa)\n",
    "        return psi.transform(x).T\n",
    "    \n",
    "    return f\n",
    "\n",
    "\n",
    "# Feature Preprocessing: Normalize to zero mean and unit variance\n",
    "# We use a few samples from the observation space to do this\n",
    "states = np.array([env.observation_space.sample() for x in range(10000)])\n",
    "actions = np.array([env.action_space.sample() for x in range(10000)]).reshape(10000, 1)\n",
    "xs = np.hstack((states, actions))\n",
    "\n",
    "print(xs.shape)\n",
    "scaler = sklearn.preprocessing.StandardScaler()\n",
    "scaler.fit(xs)\n",
    "\n",
    "def simple_phi(s, a):\n",
    "    # identity\n",
    "    return np.expand_dims(np.hstack((s, a)), axis=1)\n",
    "\n",
    "phi_rbf = get_phi(scaler)\n",
    "psi_rbf = phi_rbf\n",
    "phi_linear = simple_phi\n",
    "psi_linear = phi_linear"
   ]
  },
  {
   "cell_type": "markdown",
   "metadata": {},
   "source": [
    "## make behavior policies"
   ]
  },
  {
   "cell_type": "code",
   "execution_count": 7,
   "metadata": {},
   "outputs": [],
   "source": [
    "# pi_expert\n",
    "\n",
    "\n",
    "# pi_explore\n",
    "pi1 = RandomPolicy2(choices=[0]) # left\n",
    "pi2 = RandomPolicy2(choices=[2]) # right\n",
    "pi3 = RandomPolicy2(choices=[0, 2]) # left, right\n",
    "\n",
    "class ManualPolicy():\n",
    "    def choose_action(self, s):\n",
    "        pos, v = s\n",
    "        return 0 if v <=0 else 2\n",
    "pi4 = ManualPolicy()\n",
    "# pi_evaluate\n",
    "pi5 = RandomPolicy2(choices=[0, 1, 2]) # left, right\n",
    "\n",
    "\n"
   ]
  },
  {
   "cell_type": "markdown",
   "metadata": {},
   "source": [
    "## Train DQN on Mountaincar"
   ]
  },
  {
   "cell_type": "code",
   "execution_count": 8,
   "metadata": {},
   "outputs": [
    {
     "name": "stderr",
     "output_type": "stream",
     "text": [
      "/usr/lib64/python3.6/importlib/_bootstrap.py:205: RuntimeWarning: compiletime version 3.5 of module 'tensorflow.python.framework.fast_tensor_util' does not match runtime version 3.6\n",
      "  return f(*args, **kwds)\n"
     ]
    }
   ],
   "source": [
    "import baselines\n",
    "from baselines import deepq"
   ]
  },
  {
   "cell_type": "code",
   "execution_count": null,
   "metadata": {},
   "outputs": [
    {
     "name": "stderr",
     "output_type": "stream",
     "text": [
      "/usr/local/lib64/python3.6/site-packages/numpy/core/fromnumeric.py:2909: RuntimeWarning: Mean of empty slice.\n",
      "  out=out, **kwargs)\n",
      "/usr/local/lib64/python3.6/site-packages/numpy/core/_methods.py:80: RuntimeWarning: invalid value encountered in double_scalars\n",
      "  ret = ret.dtype.type(ret / rcount)\n"
     ]
    },
    {
     "name": "stdout",
     "output_type": "stream",
     "text": [
      "--------------------------------------\n",
      "| % time spent exploring  | 94       |\n",
      "| episodes                | 10       |\n",
      "| mean 100 episode reward | -200     |\n",
      "| steps                   | 1799     |\n",
      "--------------------------------------\n",
      "--------------------------------------\n",
      "| % time spent exploring  | 88       |\n",
      "| episodes                | 20       |\n",
      "| mean 100 episode reward | -200     |\n",
      "| steps                   | 3799     |\n",
      "--------------------------------------\n",
      "--------------------------------------\n",
      "| % time spent exploring  | 82       |\n",
      "| episodes                | 30       |\n",
      "| mean 100 episode reward | -200     |\n",
      "| steps                   | 5799     |\n",
      "--------------------------------------\n"
     ]
    }
   ],
   "source": [
    "# Enabling layer_norm here is import for parameter space noise!\n",
    "model = deepq.models.mlp([64], layer_norm=True)\n",
    "act = deepq.learn(\n",
    "    env,\n",
    "    q_func=model,\n",
    "    lr=1e-3,\n",
    "    max_timesteps=100000,\n",
    "    buffer_size=50000,\n",
    "    exploration_fraction=0.25,\n",
    "    exploration_final_eps=0.25,\n",
    "    print_freq=10,\n",
    "    param_noise=True\n",
    ")\n",
    "print(\"Saving model to mountaincar_model.pkl\")\n",
    "act.save(\"mountaincar_model.pkl\")"
   ]
  },
  {
   "cell_type": "code",
   "execution_count": 10,
   "metadata": {},
   "outputs": [],
   "source": [
    "# Load from pickle\n",
    "#act = deepq.load(\"mountaincar_model.pkl\")"
   ]
  },
  {
   "cell_type": "code",
   "execution_count": null,
   "metadata": {},
   "outputs": [],
   "source": [
    "# Wrapper so that choose_action is exposed\n",
    "class Dqn_wrapper(object):\n",
    "    def __init__(self, act):\n",
    "        self.act = act\n",
    "    \n",
    "    def choose_action(self, s):\n",
    "        return self.act(s[None], None, None, None)[0]\n",
    "    \n",
    "# Instantiate\n",
    "pi_dqn = Dqn_wrapper(act)"
   ]
  },
  {
   "cell_type": "markdown",
   "metadata": {},
   "source": [
    "## generate trajectories under behavior policy (=D)\n",
    "\n",
    "- behavior policy: optimal (expert) + suboptimal\n",
    "- right now use only quasi optimal + suboptimal"
   ]
  },
  {
   "cell_type": "code",
   "execution_count": null,
   "metadata": {},
   "outputs": [],
   "source": [
    "state_dim = env.observation_space.shape[0]\n",
    "# discrete action\n",
    "action_dim = 1\n",
    "n_action = env.action_space.n\n",
    "sim = Simulator(env, state_dim=state_dim, action_dim=action_dim)"
   ]
  },
  {
   "cell_type": "code",
   "execution_count": null,
   "metadata": {},
   "outputs": [],
   "source": [
    "trajs1 = sim.simulate(pi1, n_trial=1, n_episode=50)\n",
    "trajs2 = sim.simulate(pi2, n_trial=1, n_episode=50)\n",
    "trajs3 = sim.simulate(pi3, n_trial=1, n_episode=50)\n",
    "trajs4 = sim.simulate(pi4, n_trial=1, n_episode=50)\n",
    "trajs_dqn = sim.simulate(pi_dqn, n_trial=1, n_episode=50)"
   ]
  },
  {
   "cell_type": "code",
   "execution_count": null,
   "metadata": {},
   "outputs": [],
   "source": [
    "trajs = trajs1 + trajs2 + trajs3 + trajs4"
   ]
  },
  {
   "cell_type": "code",
   "execution_count": null,
   "metadata": {},
   "outputs": [],
   "source": [
    "def draw_traj(traj_, title=None):\n",
    "    states = []\n",
    "    actions = []\n",
    "    rewards = []\n",
    "    for t in traj_:\n",
    "        for (s, a, r, s_next, done) in t:\n",
    "            states.append(s)\n",
    "            actions.append(a)\n",
    "            rewards.append(r)\n",
    "\n",
    "    print(np.sum(np.array(rewards) < 0))\n",
    "    states = np.array(states)\n",
    "    sns.set(style='white', palette='Blues')\n",
    "    ax = plt.gca()\n",
    "\n",
    "    sc = ax.scatter(states[:,0], states[:,1], c=rewards, alpha=0.3)\n",
    "    ax.axis([-1.2,0.6,-0.07,0.07])\n",
    "    ax.set_xlabel('Position')\n",
    "    ax.set_ylabel('Velocity')\n",
    "    if title:\n",
    "        ax.set_title(title)\n",
    "    #plt.colorbar(sc)\n",
    "    plt.show()\n",
    "    \n",
    "    return states, actions, rewards"
   ]
  },
  {
   "cell_type": "code",
   "execution_count": null,
   "metadata": {},
   "outputs": [],
   "source": [
    "draw_traj(trajs, 'Manual optimal policy with noise')"
   ]
  },
  {
   "cell_type": "code",
   "execution_count": null,
   "metadata": {},
   "outputs": [],
   "source": [
    "trajs_dqn = sim.simulate(pi_dqn, n_trial=1, n_episode=500)\n",
    "s, a, r = draw_traj(trajs_dqn, 'DQN')"
   ]
  },
  {
   "cell_type": "markdown",
   "metadata": {},
   "source": [
    "## trajectories under evaluation policy"
   ]
  },
  {
   "cell_type": "code",
   "execution_count": 14,
   "metadata": {},
   "outputs": [
    {
     "data": {
      "image/png": "[encoded data removed]",
      "text/plain": [
       "<matplotlib.figure.Figure at 0x7fb4ba260d30>"
      ]
     },
     "metadata": {},
     "output_type": "display_data"
    }
   ],
   "source": [
    "trajs5 = sim.simulate(pi5, n_trial=1, n_episode=10)\n",
    "states = []\n",
    "actions = []\n",
    "for t in trajs5:\n",
    "    for (s, a, r, s_next, done) in t:\n",
    "        states.append(s)\n",
    "        actions.append(a)\n",
    "\n",
    "states = np.array(states)\n",
    "sns.set(style='white', palette='Blues')\n",
    "ax = plt.gca()\n",
    "sc = ax.scatter(states[:,0], states[:,1], c=actions, alpha=0.3)\n",
    "ax.axis([-1.2,0.6,-0.07,0.07])\n",
    "ax.set_xlabel('Position')\n",
    "ax.set_ylabel('Velocity')\n",
    "#plt.colorbar(sc)\n",
    "plt.show()"
   ]
  },
  {
   "cell_type": "markdown",
   "metadata": {},
   "source": [
    "## Monte Carlo Mu estimation"
   ]
  },
  {
   "cell_type": "code",
   "execution_count": 15,
   "metadata": {},
   "outputs": [],
   "source": [
    "import itertools\n",
    "def estimate_mu_mc(env, pi, phi, gamma, n_episode):\n",
    "    mus = []\n",
    "    ss_init = []\n",
    "    for epi_i in range(n_episode):\n",
    "        \n",
    "        # this is not fixed\n",
    "        s = env.reset()\n",
    "        ss_init.append(s)\n",
    "        mu = 0.0\n",
    "        for t in itertools.count():\n",
    "            a = pi.choose_action(s)\n",
    "            s_next, r, done, _ = env.step(a)\n",
    "            # todo figure out whether it's phi(s,a) or phi(s)\n",
    "            mu += gamma ** t * phi(s, a)\n",
    "            s = s_next\n",
    "            if done:\n",
    "                break\n",
    "        mus.append(mu)\n",
    "    return mus, ss_init"
   ]
  },
  {
   "cell_type": "markdown",
   "metadata": {},
   "source": [
    "## MC with linear bassis"
   ]
  },
  {
   "cell_type": "code",
   "execution_count": 16,
   "metadata": {},
   "outputs": [
    {
     "data": {
      "text/plain": [
       "array([ -2.02259482e+00,  -1.43604276e-03,   4.05152782e+00])"
      ]
     },
     "execution_count": 16,
     "metadata": {},
     "output_type": "execute_result"
    }
   ],
   "source": [
    "mus_mc_linear, ss_init_linear = estimate_mu_mc(env, pi5, phi_linear, gamma, 1000)\n",
    "mus_mc_linear = np.array(mus_mc_linear).squeeze()\n",
    "np.mean(mus_mc_linear, axis=0)"
   ]
  },
  {
   "cell_type": "markdown",
   "metadata": {},
   "source": [
    "## MC with RBF bassis"
   ]
  },
  {
   "cell_type": "code",
   "execution_count": 17,
   "metadata": {},
   "outputs": [
    {
     "data": {
      "text/plain": [
       "array([ -8.65548215e-02,   4.32590146e-02,   6.85823415e-03,\n",
       "        -3.44001750e-01,  -1.30067806e-01,   3.60052572e-01,\n",
       "        -1.70257848e-01,   4.15824147e-01,  -1.64354907e-01,\n",
       "        -4.46387547e-02,   1.28194636e-02,  -2.95392152e-02,\n",
       "         8.35531843e-02,  -1.17072944e-01,   3.89439695e-01,\n",
       "         8.45404025e-03,   1.54292681e-01,  -2.34770773e-01,\n",
       "         7.20955661e-02,  -1.15083649e-01,   4.73733926e-01,\n",
       "         9.63765721e-02,  -8.12712685e-02,   2.36023102e-01,\n",
       "         1.34628037e-02,   2.07502067e-01,   1.94163297e-02,\n",
       "        -4.86985886e-01,  -2.05307979e-02,   5.36380243e-01,\n",
       "         2.54677635e-01,  -7.72680588e-02,  -1.72896727e-02,\n",
       "        -1.96802003e-01,   4.18495367e-01,  -4.80318537e-01,\n",
       "        -6.82949420e-02,  -4.70822680e-02,  -3.43391046e-02,\n",
       "        -3.25804504e-01,   4.25234596e-02,   1.01668543e-02,\n",
       "        -3.84780791e-02,  -4.66528207e-02,   1.27702759e-01,\n",
       "        -2.17501088e-02,  -8.11613688e-02,  -4.22556157e-01,\n",
       "        -1.88764330e-01,  -2.30024871e-02,   3.70229589e-01,\n",
       "        -9.91420392e-02,  -7.50302476e-02,   1.80658522e-01,\n",
       "        -2.18932902e-01,   9.87993451e-03,  -3.65353681e-03,\n",
       "        -3.06803594e-02,  -4.95273456e-01,  -3.61829337e-02,\n",
       "        -2.65172202e-01,   1.28696199e-01,   3.42690774e-01,\n",
       "        -1.64045451e-01,  -9.60560949e-02,   1.26042777e-02,\n",
       "         1.34562308e-01,  -4.16784687e-01,   8.15658953e-02,\n",
       "        -2.44331483e-01,  -3.90007049e-01,   5.66945429e-03,\n",
       "        -4.49387698e-01,   5.26277425e-02,   8.39498720e-02,\n",
       "        -1.20319589e-01,  -1.27288677e-01,   2.60726309e-01,\n",
       "        -7.46294086e-02,  -1.14091285e-01,  -1.98303958e-01,\n",
       "         4.93259373e-01,  -7.66666389e-02,  -3.27334392e-01,\n",
       "         3.35094282e-01,   1.86368684e-01,  -8.57687589e-02,\n",
       "        -9.51244256e-02,   6.15571221e-02,   2.40383616e-02,\n",
       "         2.15993784e-01,   3.96661864e-01,  -3.54365036e-01,\n",
       "         7.58613803e-02,  -1.85571469e-02,  -1.70173895e-01,\n",
       "        -5.18221039e-01,  -3.32170582e-01,   1.61343611e-01,\n",
       "        -3.63623139e-02,  -5.78775858e-02,   3.90894623e-04,\n",
       "        -7.57665491e-03,  -6.54770590e-03,  -2.84618299e-01,\n",
       "         2.47977270e-03,   5.15033321e-01,   3.12423928e-01,\n",
       "        -5.41538851e-01,   2.91858552e-01,   2.67758316e-01,\n",
       "        -1.32862587e-01,  -3.41088118e-02,   9.38832807e-02,\n",
       "        -2.12448856e-02,   2.78676410e-01,   1.08722080e-01,\n",
       "         7.82183106e-02,  -2.58049301e-01,  -2.47034211e-01,\n",
       "         2.57675590e-02,  -5.49542997e-01,   3.49241320e-01,\n",
       "        -1.79911625e-01,  -1.87435658e-01,   3.46251713e-02,\n",
       "        -2.48723177e-01,  -1.12915133e-01,   1.58726554e-01,\n",
       "         1.81905872e-01,  -1.05749885e-01,   8.34775549e-02,\n",
       "         2.16047838e-01,  -2.40119450e-02,  -2.22982858e-01,\n",
       "         8.05337521e-02,   2.85036462e-01,  -2.18786280e-02,\n",
       "         2.83589920e-01,   1.08867405e-01,  -2.63536035e-02,\n",
       "         1.93643989e-01,   9.41284275e-02,   3.54910608e-01,\n",
       "         8.56576188e-02,  -3.26282140e-02,  -1.96474737e-01,\n",
       "         5.60517099e-01,  -2.48257902e-02,   1.77883693e-01,\n",
       "         1.75932264e-01,  -3.63853299e-01,  -5.44650782e-01,\n",
       "        -5.36036348e-01,  -3.13973879e-01,   5.44191878e-01,\n",
       "        -3.37922898e-01,  -7.06341736e-02,  -6.70281514e-02,\n",
       "         1.43735361e-01,   8.78540491e-02,  -3.82788457e-01,\n",
       "         8.84768375e-03,   6.20826537e-02,  -2.50262841e-01,\n",
       "        -7.59524924e-02,   5.15302847e-02,   1.22642183e-02,\n",
       "        -5.42030035e-01,  -1.57641855e-01,  -3.02756814e-03,\n",
       "         1.10177191e-01,   1.14307431e-02,   2.93085538e-02,\n",
       "        -5.44441784e-02,  -1.44325530e-01,  -4.97585635e-02,\n",
       "         1.79037976e-02,  -1.19332468e-01,   1.43125703e-01,\n",
       "         1.12855849e-02,   3.05592766e-01,   3.49537747e-01,\n",
       "         5.12904441e-01,  -5.68157425e-04,  -4.55338460e-01,\n",
       "         4.60514272e-01,   1.06629409e-01,   9.23817003e-02,\n",
       "         5.63350497e-02,   6.62216765e-02,   7.59397004e-02,\n",
       "        -6.06756020e-02,   2.95335256e-01,  -4.42746990e-01,\n",
       "         2.37826184e-02,  -4.98846835e-01,   7.17898105e-02,\n",
       "        -5.18406591e-01,  -9.80662672e-02,  -2.60470519e-01,\n",
       "         4.17449098e-02,  -1.85123146e-02,  -8.71773096e-03,\n",
       "         4.21618553e-01,  -1.36524561e-01,   1.16674321e-02,\n",
       "         4.20833237e-01,   3.98440378e-01,  -2.26019760e-01,\n",
       "         2.03771021e-01,   3.50097007e-01,   5.05251609e-01,\n",
       "         1.35210995e-02,   9.84226802e-02,  -2.28274113e-01,\n",
       "        -9.25178721e-02,  -4.49212934e-01,   1.02880981e-01,\n",
       "        -1.48189697e-01,  -3.51197221e-02,   2.28754079e-02,\n",
       "        -1.58020256e-01,  -7.50073845e-02,   1.85779202e-01,\n",
       "         3.27404843e-01,  -3.05438870e-01,   1.86118788e-01,\n",
       "         8.28889856e-02,   5.98555643e-02,   4.05958627e-01,\n",
       "         2.94396610e-02,   8.32893235e-02,   2.19373996e-03,\n",
       "        -1.29176556e-01,   3.21857259e-01,  -1.10701810e-02,\n",
       "         1.18743161e-01,   9.49390731e-02,   1.44935582e-01,\n",
       "         6.78324770e-02,   5.47522708e-02,  -1.44753242e-01,\n",
       "         3.16179180e-01,   4.34775418e-01,  -4.59313788e-01,\n",
       "        -3.44425170e-01,   5.41132669e-01,   5.87422525e-02,\n",
       "         4.21487923e-01,   4.75996750e-01,  -1.52476417e-01,\n",
       "         1.85938165e-01,   6.41572815e-02,  -1.08269651e-02,\n",
       "        -3.09821099e-02,   1.16992814e-01,  -2.93236280e-01,\n",
       "        -1.97352272e-01,  -3.29624004e-01,  -1.20793283e-01,\n",
       "         5.55520711e-01,  -5.03271007e-03,   1.82174130e-01,\n",
       "        -2.41528312e-01,  -1.83184386e-01,   3.87735483e-02,\n",
       "         7.52098572e-02,  -1.05769254e-02,  -6.47599512e-02,\n",
       "        -4.20896471e-01,  -3.42849804e-02,   3.58404875e-01,\n",
       "         1.66167276e-01,   4.05814631e-01,  -3.43234155e-01,\n",
       "         7.40356945e-02,   4.49253000e-01,  -1.22715247e-02,\n",
       "         3.51610899e-01,   5.27230807e-01,   5.10982863e-02,\n",
       "         2.03648782e-01,   5.33744660e-01,  -2.21412314e-04,\n",
       "         2.31425479e-01,  -1.00646025e-01,  -3.15911438e-01,\n",
       "        -1.67872690e-01,   1.79168889e-01,  -1.62694928e-02,\n",
       "         7.23674900e-02,   4.95633916e-01,   5.24240348e-01,\n",
       "         3.58696193e-02,   8.76192705e-02,  -5.75811787e-02,\n",
       "         1.12249512e-01,   5.65166129e-02,  -9.55967182e-02,\n",
       "        -2.65573978e-01,  -7.74825680e-02,   4.69148631e-02,\n",
       "        -1.05357076e-01,  -4.06312782e-01,   2.44674743e-01,\n",
       "        -5.25639375e-01,  -4.95820571e-01,   1.95053300e-01,\n",
       "         3.68375728e-01,  -2.81931835e-01,   3.27707754e-01,\n",
       "         1.04385761e-01,   1.87152559e-01,  -2.27453566e-01,\n",
       "         5.25917679e-01,   5.02016012e-01,  -1.50654295e-01,\n",
       "        -5.23343167e-01,  -2.56235170e-01,   2.25638203e-01,\n",
       "        -5.41815527e-01,   2.69903229e-01,  -1.56725353e-01,\n",
       "        -1.49377575e-02,  -3.28828391e-01,   3.77116693e-01,\n",
       "         1.14324232e-01,  -2.52733680e-01,  -5.24640358e-01,\n",
       "         1.05969623e-01,  -4.08448306e-01,  -5.83092665e-02,\n",
       "        -1.39487851e-01,   3.76925680e-01,  -9.49568768e-02,\n",
       "         9.97710696e-02,  -1.68140307e-01,   5.56479375e-01,\n",
       "         1.95360533e-01,   2.33395076e-01,  -1.88899680e-02,\n",
       "         1.64768485e-02,   1.68060618e-01,   2.41270469e-02,\n",
       "         6.26953686e-02,  -1.64478341e-01,   5.11399337e-01,\n",
       "        -1.53178378e-01,  -3.10669905e-01,  -4.27866596e-01,\n",
       "        -1.06498871e-01,  -3.01196076e-01,   3.11392281e-01,\n",
       "        -4.37143515e-01,   1.80647066e-02,  -4.27641362e-01,\n",
       "         2.63311963e-01,  -5.11840714e-01,  -5.08578153e-01,\n",
       "        -2.46141167e-02,  -2.39793868e-01,   3.37456229e-01,\n",
       "         4.07153413e-02,   5.17401835e-03,  -1.74629778e-01,\n",
       "        -3.18513208e-02,  -1.14005363e-02,  -5.00392108e-01,\n",
       "         3.26014197e-01,   3.72432376e-01,   3.82033701e-02,\n",
       "         8.44741819e-02,  -3.54827343e-02,   2.09800500e-03,\n",
       "        -2.51403389e-01,  -4.86492734e-01,  -1.61058861e-01,\n",
       "        -5.08524132e-01,  -2.96684053e-01,  -4.16272551e-01,\n",
       "        -4.19495523e-01,  -6.70324860e-03,   8.44787369e-02,\n",
       "        -3.25385911e-01,   1.18785507e-01,   2.59019731e-02,\n",
       "         4.89508182e-01,  -1.38877269e-01,   9.64680283e-02,\n",
       "         8.32350548e-02,  -1.05826565e-02,   3.57491014e-01,\n",
       "         1.08278550e-01,  -3.70369801e-01,  -1.77432958e-01,\n",
       "        -3.33911218e-01,   3.21056000e-01,  -8.99577397e-02,\n",
       "         1.55548262e-01])"
      ]
     },
     "execution_count": 17,
     "metadata": {},
     "output_type": "execute_result"
    }
   ],
   "source": [
    "mus_mc_rbf, ss_init_rbf = estimate_mu_mc(env, pi5, phi_rbf, gamma, 1000)\n",
    "mus_mc_rbf = np.array(mus_mc_rbf).squeeze()\n",
    "np.mean(mus_mc_rbf, axis=0)"
   ]
  },
  {
   "cell_type": "markdown",
   "metadata": {},
   "source": [
    "## Visualize Monte Carlo $\\mu$ of evaluation policy\n",
    "\n",
    "- through direct simulation"
   ]
  },
  {
   "cell_type": "code",
   "execution_count": 18,
   "metadata": {},
   "outputs": [],
   "source": [
    "tsne = manifold.TSNE(n_components=2, init='pca', random_state=0)\n",
    "trans_data = tsne.fit_transform(mus_mc_rbf).T"
   ]
  },
  {
   "cell_type": "code",
   "execution_count": 19,
   "metadata": {},
   "outputs": [
    {
     "ename": "SyntaxError",
     "evalue": "invalid syntax (<ipython-input-19-550cc3fa72c9>, line 10)",
     "output_type": "error",
     "traceback": [
      "\u001b[0;36m  File \u001b[0;32m\"<ipython-input-19-550cc3fa72c9>\"\u001b[0;36m, line \u001b[0;32m10\u001b[0m\n\u001b[0;31m    ss = ax2.scatter(trans_data[0], trans_data[1], ;\u001b[0m\n\u001b[0m                                                   ^\u001b[0m\n\u001b[0;31mSyntaxError\u001b[0m\u001b[0;31m:\u001b[0m invalid syntax\n"
     ]
    }
   ],
   "source": [
    "fig, (ax1, ax2) = plt.subplots(1, 2, figsize=(20, 7))\n",
    "plt.suptitle('Monte Carlo Estimates')\n",
    "\n",
    "ax1.scatter(mus_mc_linear[:, 0], mus_mc_linear[:, 1])\n",
    "ax1.set_ylim(-0.02, 0.02)\n",
    "ax1.set_xlabel('Position')\n",
    "ax1.set_ylabel('Velocity')\n",
    "\n",
    "# c= ..\n",
    "ss = ax2.scatter(trans_data[0], trans_data[1], ;\n",
    "ax2.set_title(\"t-SNE of mu_expert_stochastic\")\n",
    "ax2.axis('tight')\n",
    "#fig.colorbar(ss, ax=ax2)\n",
    "plt.show()\n",
    "                 \n",
    "# u_hat= 1/n sum_{i=1}^n (u_i)\n",
    "# E[u_hat] = u\n",
    "                 \n",
    "                 "
   ]
  },
  {
   "cell_type": "markdown",
   "metadata": {},
   "source": [
    "## LSTD-mu estimation of evaluation policy\n",
    "- with linear basis\n",
    "- with rbf basis"
   ]
  },
  {
   "cell_type": "code",
   "execution_count": null,
   "metadata": {},
   "outputs": [],
   "source": [
    "# depends on basis function\n",
    "p_linear = 3\n",
    "q_linear = 3\n",
    "p_rbf = 400\n",
    "q_rbf = 400\n",
    "eps = 0.001\n",
    "lm_linear = LSTDMu(p=p_linear, q=q_linear, phi=phi_linear, psi=psi_linear, gamma=gamma, eps=eps)\n",
    "lm_rbf = LSTDMu(p=p_rbf, q=q_rbf, phi=phi_rbf, psi=psi_rbf, gamma=gamma, eps=eps)\n",
    "lm_linear.fit(D=trajs, pi=pi5)\n",
    "lm_rbf.fit(D=trajs, pi=pi5)"
   ]
  },
  {
   "cell_type": "code",
   "execution_count": null,
   "metadata": {},
   "outputs": [],
   "source": [
    "#pp(np.mean(mus, axis=0))\n",
    "mus_lstd_linear = []\n",
    "mus_lstd_rbf = []\n",
    "\n",
    "for s0 in ss_init:\n",
    "    # linear\n",
    "    mu = lm_linear.predict(s0, pi5.choose_action(s0))\n",
    "    mus_lstd_linear.append(mu)\n",
    "    # rbf\n",
    "    mu_rbf = lm_rbf.predict(s0, pi5.choose_action(s0))\n",
    "    mus_lstd_rbf.append(mu)\n",
    "\n",
    "mus_lstd_linear = np.array(mus_lstd_linear).squeeze()\n",
    "mus_lstd_rbf = np.array(mus_lstd_rbf).squeeze()\n"
   ]
  },
  {
   "cell_type": "code",
   "execution_count": null,
   "metadata": {},
   "outputs": [],
   "source": [
    "fig, (ax1, ax2) = plt.subplots(1, 2, figsize=(20, 7))\n",
    "plt.suptitle('Distribution of mu expert')\n",
    "\n",
    "ax1.scatter(mus_lstd_linear[:, 0], mus_lstd_linear[:, 1])\n",
    "#ax1.set_ylim(-0.02, 0.02)\n",
    "ax1.set_xlabel('Position')\n",
    "ax1.set_ylabel('Velocity')\n",
    "\n",
    "tsne = manifold.TSNE(n_components=2, init='pca', random_state=0)\n",
    "trans_data = tsne.fit_transform(mus_lstd_rbf).T\n",
    "\n",
    "ss = ax2.scatter(trans_data[0], trans_data[1], cmap='Reds')\n",
    "ax2.set_title(\"t-SNE of mu_expert_stochastic\")\n",
    "ax2.axis('tight')\n",
    "#fig.colorbar(ss, ax=[ax1, ax2])\n",
    "plt.show()"
   ]
  },
  {
   "cell_type": "markdown",
   "metadata": {},
   "source": [
    "## todo\n",
    "- get pi expert using LSPI (or DDQN)\n",
    "- run MMP/AL with LSTD-mu vs. MC-mu\n",
    "\n",
    "## LSTD-mu\n",
    "- is this a feature or a bug? (maybe this is just MC variance)\n",
    "- expert mountain car\n",
    "\n",
    "## ideas\n",
    "- directed policy learning with IRL? \n",
    "\n",
    "## story\n",
    "- mlhc: learning accurate reward functions\n",
    "- ccm: interpretability & decision making\n",
    "\n",
    "## not markovian?\n",
    "- use lstm (r_t) + m_t -> phi(r_t, m_t) -> enough data?\n",
    "- considering history (add temporal component - markovian)\n",
    "- a strong baseline is to use supervised learning (imitation leanring)\n",
    "\n",
    "## interpretability\n",
    "- give pca basis if it makes sense \n",
    "- give final weights if it makes sense\n",
    "- give a trajectory: sample a IRL trajectory (s, a, r, s') see if it makes sense\n",
    "- check with li-wei\n",
    "\n",
    "\n",
    "## outline\n",
    "- raw observations\n",
    "- discrete-state MDP\n",
    "    - did not work as well because blah blah\n",
    "    - bad transition\n",
    "    - limited state representation\n",
    "- continuous-state MDP with apprenticeship learning\n",
    "    - with apprenticeship learning\n",
    "    \n",
    "- continuous-state MDP with maximum margin planning\n",
    "    - shortcoming: no direct control for taking rare actions/rare states\n",
    "    - suboptimality of expert: introduce slack term\n",
    "- results\n",
    "    - mu/v convergence\n",
    "    - pi matching (metric/trajectory)\n",
    "    - interpretation of weights, trajectories (how?)\n",
    "\n",
    "## methods\n",
    "- mu estimates\n",
    "- max margin\n",
    "- ddqn & experience replay\n"
   ]
  },
  {
   "cell_type": "markdown",
   "metadata": {},
   "source": [
    "## apply apprenticeship learning"
   ]
  },
  {
   "cell_type": "code",
   "execution_count": null,
   "metadata": {},
   "outputs": [],
   "source": [
    "## value margin"
   ]
  },
  {
   "cell_type": "code",
   "execution_count": null,
   "metadata": {},
   "outputs": [],
   "source": []
  },
  {
   "cell_type": "code",
   "execution_count": null,
   "metadata": {},
   "outputs": [],
   "source": []
  },
  {
   "cell_type": "code",
   "execution_count": null,
   "metadata": {},
   "outputs": [],
   "source": []
  },
  {
   "cell_type": "markdown",
   "metadata": {},
   "source": [
    "## apply maximum margin planning"
   ]
  },
  {
   "cell_type": "code",
   "execution_count": null,
   "metadata": {},
   "outputs": [],
   "source": []
  },
  {
   "cell_type": "code",
   "execution_count": null,
   "metadata": {},
   "outputs": [],
   "source": []
  },
  {
   "cell_type": "code",
   "execution_count": null,
   "metadata": {},
   "outputs": [],
   "source": []
  }
 ],
 "metadata": {
  "kernelspec": {
   "display_name": "Python 3",
   "language": "python",
   "name": "python3"
  },
  "language_info": {
   "codemirror_mode": {
    "name": "ipython",
    "version": 3
   },
   "file_extension": ".py",
   "mimetype": "text/x-python",
   "name": "python",
   "nbconvert_exporter": "python",
   "pygments_lexer": "ipython3",
   "version": "3.6.2"
  }
 },
 "nbformat": 4,
 "nbformat_minor": 2
}
